{
 "cells": [
  {
   "cell_type": "markdown",
   "metadata": {},
   "source": [
    "# Plot motifs\n",
    "\n",
    "This file plot univariant and multivariant motifs, calculated by matrix profile."
   ]
  },
  {
   "cell_type": "markdown",
   "metadata": {},
   "source": [
    "**Import Libraries**"
   ]
  },
  {
   "cell_type": "code",
   "execution_count": null,
   "metadata": {},
   "outputs": [],
   "source": [
    "import warnings\n",
    "warnings.filterwarnings('ignore')"
   ]
  },
  {
   "cell_type": "code",
   "execution_count": null,
   "metadata": {
    "scrolled": true
   },
   "outputs": [],
   "source": [
    "import pandas as pd\n",
    "from kando import kando_client\n",
    "import datetime\n",
    "import pandas as pd\n",
    "import json\n",
    "import stumpy\n",
    "from matplotlib.patches import Rectangle\n",
    "\n",
    "from matplotlib import pyplot as plt\n",
    "%matplotlib inline"
   ]
  },
  {
   "cell_type": "markdown",
   "metadata": {},
   "source": [
    "**Global Variables**"
   ]
  },
  {
   "cell_type": "code",
   "execution_count": null,
   "metadata": {},
   "outputs": [],
   "source": [
    "RESAMPLE = '5min'\n",
    "WINDOW = 24\n",
    "THRESHOLD = 0.05\n",
    "NODE = 1012\n",
    "START = datetime.datetime(2020, 1, 1, 0, 0).timestamp()"
   ]
  },
  {
   "cell_type": "markdown",
   "metadata": {},
   "source": [
    "**Functions**"
   ]
  },
  {
   "cell_type": "code",
   "execution_count": null,
   "metadata": {},
   "outputs": [],
   "source": [
    "def connect():\n",
    "    \"\"\"\n",
    "    connect to Kando API with json file\n",
    "    :return: client\n",
    "    \"\"\"\n",
    "\n",
    "    with open('key.json') as f:\n",
    "        api_login = json.load(f)\n",
    "\n",
    "    url = \"https://kando-staging.herokuapp.com\"\n",
    "    client = kando_client.client(url, api_login['key'], api_login['secret'])\n",
    "    return client"
   ]
  },
  {
   "cell_type": "code",
   "execution_count": null,
   "metadata": {},
   "outputs": [],
   "source": [
    "def create_df(data):\n",
    "    \"\"\"\n",
    "    :param data: dictionary of the data set\n",
    "    :return: DataFrame of the data set\n",
    "    \"\"\"\n",
    "\n",
    "    df = pd.DataFrame.from_dict(data['samplings'], orient='index')\n",
    "    df.visit.fillna(value=False, inplace=True)\n",
    "    df.Battery.fillna(value=0, inplace=True)\n",
    "    df.Signal.fillna(value=0, inplace=True)\n",
    "\n",
    "    df['DateTime'] = pd.to_datetime(df['DateTime'], unit='s')\n",
    "    df = df.set_index('DateTime')\n",
    "    df.drop(df.index[0], inplace=True)\n",
    "\n",
    "    return df"
   ]
  },
  {
   "cell_type": "code",
   "execution_count": null,
   "metadata": {},
   "outputs": [],
   "source": [
    "def plot_columns(df, cols_to_plot, sampling_unit='D'):\n",
    "    \"\"\"\n",
    "    :param df: pandas DataFrame\n",
    "    :param cols_to_plot: list of columns to plot\n",
    "    :param sampling_unit: resampling unit size, default is day\n",
    "    :return: plot chosen time series columns from DataFrame with optional time resampling\n",
    "    \"\"\"\n",
    "\n",
    "    df = df.resample(sampling_unit).mean()\n",
    "    data_dic = {\n",
    "        'PI': 'Polution_Index ',\n",
    "        'EC': 'Electrical_Conductivity',\n",
    "        'PH': 'pH',\n",
    "        'WL': 'Water_Level',\n",
    "        'ORP': 'Oxidation_reduction_potential',\n",
    "        'TEMPERATURE': 'Temperature',\n",
    "        'COD': 'Chemical_Oxygen_Demand',\n",
    "        'TSS': 'Total_suspended_solids',\n",
    "        'FLOW': 'Flow',\n",
    "        'Battery': 'Battery_Level',\n",
    "        'Signal': 'Signal',\n",
    "        'MS': 'MS',\n",
    "        'gaps': 'gaps'\n",
    "    }\n",
    "\n",
    "    for col_ in cols_to_plot:\n",
    "        plt.figure(figsize=(15, 5))\n",
    "        df[f'{col_}'].plot()\n",
    "        plt.title(data_dic[f'{col_}'] + ' OVER TIME', fontsize=18)\n",
    "        plt.xlabel('Time')\n",
    "        plt.ylabel(str(col_))\n",
    "        plt.show()"
   ]
  },
  {
   "cell_type": "code",
   "execution_count": null,
   "metadata": {},
   "outputs": [],
   "source": [
    "def impute_nulls_with_time_interpolation(df, columns_to_impute, unit):\n",
    "    \"\"\"\n",
    "    :param df: pandas DataFrame\n",
    "    :param columns_to_impute: list of columns names\n",
    "    :return: imputed DataFrame\n",
    "    \"\"\"\n",
    "\n",
    "    df = df.resample(f'{unit}').mean()\n",
    "    for col in columns_to_impute:\n",
    "        df[f'{col}'] = df[f'{col}'].interpolate(method='time')\n",
    "    return df"
   ]
  },
  {
   "cell_type": "code",
   "execution_count": null,
   "metadata": {},
   "outputs": [],
   "source": [
    "def create_matrix_profile_dictionary(df, target_cols, window=24):\n",
    "    \"\"\"\n",
    "    :param df: pandas DataFrame\n",
    "    :param target_cols: list of columns names\n",
    "    :param window: window size\n",
    "    :return: dictionary of matrix profile\n",
    "    \"\"\"\n",
    "\n",
    "    mps = {}\n",
    "    for col_ in target_cols:\n",
    "        mps[f'mp_{col_}'] = stumpy.stump(df[f'{col_}'], m)\n",
    "    mps['All_dimensions'] = stumpy.mstump(df[target_cols], m)\n",
    "    return (mps)"
   ]
  },
  {
   "cell_type": "code",
   "execution_count": null,
   "metadata": {},
   "outputs": [],
   "source": [
    "def plot_univariant_matrix_profiles_dictionary(df, mps, cols_to_plot):\n",
    "    \"\"\"\n",
    "    :param df: pandas DataFrame\n",
    "    :param mps: dictionary of matrix profile\n",
    "    :param cols_to_plot: list of columns names\n",
    "    :return: plot time series and matrix profile to chosen columns \n",
    "    \"\"\"\n",
    "       \n",
    "    for col_ in cols_to_plot:\n",
    "        plt.subplots(sharex=True, figsize=(30,8), gridspec_kw={'hspace': 0})\n",
    "        plt.subplot(2, 1, 1)\n",
    "        df[f'{col_}'].plot()\n",
    "        plt.title(f'{col_} OVER TIME \\n And {col_} 1 day window matrix profile ', fontsize=20)\n",
    "        plt.xlabel('Time')\n",
    "        plt.ylabel(f'{col_} level', fontsize='16')   \n",
    "        plt.subplot(2, 1, 2)\n",
    "        plt.plot(mps[f'mp_{col_}'][:, 0], C='g')\n",
    "        plt.xlabel('index')\n",
    "        plt.ylabel(f'Distance to \\n nearest \\n neighbor', fontsize='16')   \n",
    "        plt.show()"
   ]
  },
  {
   "cell_type": "code",
   "execution_count": null,
   "metadata": {},
   "outputs": [],
   "source": [
    "def plot_univariant_matrix_profiles_and_motifs(df,\n",
    "                                               mps,\n",
    "                                               cols_to_plot,\n",
    "                                               window=24,\n",
    "                                               threshold=0.05):\n",
    "    \"\"\"\n",
    "    :param df: pandas DataFrame\n",
    "    :param mps: dictionary of matrix profile\n",
    "    :param cols_to_plot: list of columns names\n",
    "    :param window: window size\n",
    "    :param threshold: the top % of most similar motifs\n",
    "    :return: plot time series and matrix profile to chosen columns, and a separate plots for the motifs\n",
    "    \"\"\"\n",
    "\n",
    "    new_df = df.reset_index()\n",
    "    for col_ in cols_to_plot:\n",
    "\n",
    "        groups = discover_motifs_groups(mps[f'mp_{col_}'], threshold)\n",
    "        motif_colors = [\n",
    "            'red', 'blue', 'green', 'orange', 'gray', 'purple', 'teal', 'pink',\n",
    "            'brown', 'yellow'\n",
    "        ]\n",
    "\n",
    "        fig, ax = plt.subplots(3, figsize=(240, 12), gridspec_kw={'hspace': 0})\n",
    "\n",
    "        ax[0].set_title(f'FEATURES OVER TIME', fontsize=20)\n",
    "\n",
    "        i = 0\n",
    "        graph_colors = ['black', 'green', 'orange']\n",
    "        for col in cols_to_plot:\n",
    "            if col != col_:\n",
    "                ax[i].plot(df[f'{col}'], c=graph_colors[i])\n",
    "                ax[i].set_ylabel(f'{col} flow')\n",
    "                i += 1\n",
    "\n",
    "        plt.show()\n",
    "\n",
    "        fig, ax = plt.subplots(2, figsize=(240, 12), gridspec_kw={'hspace': 0})\n",
    "\n",
    "        ax[0].set_title(\n",
    "            f'{col_} OVER TIME \\n And {col_} {window} hours window matrix profile ',\n",
    "            fontsize=20)\n",
    "\n",
    "        ax[0].plot(new_df[f'{col_}'])\n",
    "        ax[0].set_ylabel(f'{col_} level', fontsize='16')\n",
    "\n",
    "        ax[1].plot(mps[f'mp_{col_}'][:, 0], C='g')\n",
    "        ax[1].set_xlabel('Time', fontsize='15')\n",
    "        ax[1].set_ylabel(f'Distance to \\n nearest \\n neighbor', fontsize='15')\n",
    "\n",
    "        for i, group in enumerate(groups):\n",
    "            for motif in group:\n",
    "                rect = Rectangle((motif, new_df[col_].min()),\n",
    "                                 window,\n",
    "                                 new_df[col_].max(),\n",
    "                                 facecolor=motif_colors[i],\n",
    "                                 alpha=0.2)\n",
    "                ax[0].add_patch(rect)\n",
    "                ax[1].axvline(motif, linestyle=\"dashed\", color=motif_colors[i])\n",
    "                ax[1].scatter(motif,\n",
    "                              mps[f'mp_{col_}'][motif, 0],\n",
    "                              color=motif_colors[i],\n",
    "                              marker='*',\n",
    "                              s=200)\n",
    "\n",
    "        plt.show()\n",
    "\n",
    "        plot_groups(df, groups, col_, window)"
   ]
  },
  {
   "cell_type": "code",
   "execution_count": null,
   "metadata": {},
   "outputs": [],
   "source": [
    "def simm(motif, matrix_profile):\n",
    "    \"\"\"\n",
    "    :param motif: value of motif\n",
    "    :param matrix_profile: matrix profile of chosen column\n",
    "    :return: list of all indices in the matrix profile that contain similar value of the motif\n",
    "    \"\"\"\n",
    "    \n",
    "    sims = []\n",
    "    for index, point in enumerate(matrix_profile[:, 1]):\n",
    "        if point == motif[1]:\n",
    "            sims.append(index)\n",
    "    return sims"
   ]
  },
  {
   "cell_type": "code",
   "execution_count": null,
   "metadata": {},
   "outputs": [],
   "source": [
    "def simms(motif, matrix_profile):\n",
    "    \"\"\"\n",
    "    :param motif:  value of motif\n",
    "    :param matrix_profile: matrix profile of chosen column\n",
    "    :return: list of all indices in the matrix profile that contain similar value of the motif, \n",
    "    and similar value of the other values that found\n",
    "    \"\"\"\n",
    "\n",
    "    i = 0\n",
    "    allsimms = simm(motif, matrix_profile)\n",
    "    while i != len(allsimms):\n",
    "        for index, point in enumerate(matrix_profile[:, 1]):\n",
    "            if point == allsimms[i] and index not in allsimms:\n",
    "                allsimms.append(index)\n",
    "        i += 1\n",
    "    return (allsimms)"
   ]
  },
  {
   "cell_type": "code",
   "execution_count": null,
   "metadata": {},
   "outputs": [],
   "source": [
    "def discover_motifs_groups(mps, treshold):\n",
    "    \"\"\"\n",
    "    :param mps: matrix profile of chosen column\n",
    "    :param treshold: the top % of most similar groups\n",
    "    :return: list of lists containing indices of the most similar data points\n",
    "    \"\"\"\n",
    "      \n",
    "    mins = [[mps[i][0], i, mps[i][1]]\n",
    "            for i in range(2,\n",
    "                           len(mps) - 2)\n",
    "            if mps[i - 1][0] > mps[i][0]\n",
    "            and mps[i][0] < mps[i + 1][0]\n",
    "            and mps[i - 2][0] > mps[i - 1][0]\n",
    "            and mps[i + 1][0] < mps[i + 2][0]\n",
    "           ]\n",
    "    if int(len(mins)*treshold)<10:\n",
    "        groups_size = int(len(mins)*treshold)\n",
    "    else:\n",
    "        groups_size = 10\n",
    "    motifs = sorted(mins, key = lambda x: x[0])[:groups_size]\n",
    "    \n",
    "    groups_check = []\n",
    "    groups = []\n",
    "    for motif in motifs:\n",
    "        if len(simms(motif, mps))>1 and set(simms(motif, mps)) not in groups_check:\n",
    "            groups_check.append(set(simms(motif, mps)))\n",
    "            groups.append(simms(motif, mps))\n",
    "\n",
    "    return (groups[:])"
   ]
  },
  {
   "cell_type": "code",
   "execution_count": null,
   "metadata": {},
   "outputs": [],
   "source": [
    "def plot_groups(df, groups, col, window=24):\n",
    "    \"\"\"\n",
    "    :param df: pandas DataFrame\n",
    "    :param groups: list of lists containing indices of the most similar data points\n",
    "    :param col: chosen col to plot\n",
    "    :param window: window size\n",
    "    :return: plot groups of motifs for the chosen columns\n",
    "    \"\"\"\n",
    "\n",
    "    colors = [\n",
    "        'red', 'blue', 'green', 'orange', 'gray', 'purple', 'teal', 'pink',\n",
    "        'brown', 'yellow'\n",
    "    ]\n",
    "    for i, group in enumerate(groups):\n",
    "        fig = plt.figure(figsize=(15, 3))\n",
    "        ax = fig.add_subplot(1, 1, 1)\n",
    "        ax.set_title(f'{col} motifs', fontsize=20)\n",
    "        for similar in group:\n",
    "            motif = df[f'{col}'][similar:similar + m]\n",
    "            date = df[f'{col}'].iloc[similar:similar + m + 1]\n",
    "            ax.plot(\n",
    "                range(1, m + 1),\n",
    "                motif,\n",
    "                label=\n",
    "                f\"{date.index[0].date()}: {date.index[0].hour}:{date.index[0].minute} - {date.index[-1].hour}:{date.index[-1].minute}\"\n",
    "            )\n",
    "            plt.legend(bbox_to_anchor=(-0.05, 1))\n",
    "        ax.patch.set_facecolor(colors[i])\n",
    "        ax.patch.set_alpha(0.1)\n",
    "        plt.show()"
   ]
  },
  {
   "cell_type": "code",
   "execution_count": null,
   "metadata": {},
   "outputs": [],
   "source": [
    "def plot_multi_variant_matrix_profile(mps, cols_to_plot):\n",
    "    \"\"\"\n",
    "    :param mps: dictionary of matrix profile\n",
    "    :param cols_to_plot: list of columns names\n",
    "    :return: plot the multi variant matrix profile and mark in black the most minimal graph\n",
    "    \"\"\"\n",
    "\n",
    "    plt.figure(figsize=(30, 6))\n",
    "    for col_ in cols_to_plot:\n",
    "        plt.plot(mps[f'mp_{col_}'][:, 0], label=col_)\n",
    "        plt.legend(title='title', bbox_to_anchor=(-0.05, 1))\n",
    "    plt.plot(mps[f'All_dimensions'][0][:, 0], 'k--', linewidth=3, label='all')\n",
    "    plt.title(f'All dimensions 1 day window matrix profile', fontsize=20)\n",
    "    plt.xlabel('index')\n",
    "    plt.ylabel(f'Distance to \\n nearest neighbor', fontsize='18')\n",
    "    plt.show()"
   ]
  },
  {
   "cell_type": "markdown",
   "metadata": {},
   "source": [
    "**Connect to API**"
   ]
  },
  {
   "cell_type": "code",
   "execution_count": null,
   "metadata": {},
   "outputs": [],
   "source": [
    "client = connect()"
   ]
  },
  {
   "cell_type": "markdown",
   "metadata": {},
   "source": [
    "**Load data**"
   ]
  },
  {
   "cell_type": "code",
   "execution_count": null,
   "metadata": {},
   "outputs": [],
   "source": [
    "df_Train = client.get_all(point_id=NODE, start=START)"
   ]
  },
  {
   "cell_type": "markdown",
   "metadata": {},
   "source": [
    "**Create DataFrame**"
   ]
  },
  {
   "cell_type": "code",
   "execution_count": null,
   "metadata": {},
   "outputs": [],
   "source": [
    "df = create_df(df_Train)\n",
    "df.head()"
   ]
  },
  {
   "cell_type": "markdown",
   "metadata": {},
   "source": [
    "**Relevant features**"
   ]
  },
  {
   "cell_type": "code",
   "execution_count": null,
   "metadata": {},
   "outputs": [],
   "source": [
    "cols_to_plot = ['PI', 'EC', 'PH', 'ORP', 'TEMPERATURE']"
   ]
  },
  {
   "cell_type": "markdown",
   "metadata": {},
   "source": [
    "**Plotting on a full time-line (with optional resampling)**"
   ]
  },
  {
   "cell_type": "code",
   "execution_count": null,
   "metadata": {
    "scrolled": true
   },
   "outputs": [],
   "source": [
    "plot_columns(df, cols_to_plot, RESAMPLE)"
   ]
  },
  {
   "cell_type": "markdown",
   "metadata": {},
   "source": [
    "**Resampling the data, imputing nulls with time_interpolations and plotting**"
   ]
  },
  {
   "cell_type": "code",
   "execution_count": null,
   "metadata": {
    "scrolled": true
   },
   "outputs": [],
   "source": [
    "df = impute_nulls_with_time_interpolation(df, cols_to_plot, RESAMPLE)\n",
    "plot_columns(df, cols_to_plot, RESAMPLE)"
   ]
  },
  {
   "cell_type": "markdown",
   "metadata": {},
   "source": [
    "### Plot matrix profile"
   ]
  },
  {
   "cell_type": "code",
   "execution_count": null,
   "metadata": {},
   "outputs": [],
   "source": [
    "df = df.iloc[:1000]\n",
    "df.shape"
   ]
  },
  {
   "cell_type": "code",
   "execution_count": null,
   "metadata": {},
   "outputs": [],
   "source": [
    "cols_for_matrix_profile = ['EC', 'PH', 'ORP', 'TEMPERATURE']\n",
    "mps = create_matrix_profile_dictionary(df, cols_for_matrix_profile, m=WINDOW)"
   ]
  },
  {
   "cell_type": "markdown",
   "metadata": {},
   "source": [
    "**Plot univariant matrix profiles**"
   ]
  },
  {
   "cell_type": "code",
   "execution_count": null,
   "metadata": {
    "scrolled": true
   },
   "outputs": [],
   "source": [
    "plot_univariant_matrix_profiles_dictionary(df, mps, cols_for_matrix_profile)"
   ]
  },
  {
   "cell_type": "markdown",
   "metadata": {},
   "source": [
    "**Plot univariant matrix profiles and motifs**"
   ]
  },
  {
   "cell_type": "code",
   "execution_count": null,
   "metadata": {
    "scrolled": true
   },
   "outputs": [],
   "source": [
    "plot_univariant_matrix_profiles_and_motifs(df,\n",
    "                                           mps,\n",
    "                                           cols_for_matrix_profile,\n",
    "                                           WINDOW,\n",
    "                                           threshold=THRESHOLD)"
   ]
  },
  {
   "cell_type": "markdown",
   "metadata": {},
   "source": [
    "**Plot univariant motifs**"
   ]
  },
  {
   "cell_type": "code",
   "execution_count": null,
   "metadata": {
    "scrolled": true
   },
   "outputs": [],
   "source": [
    "for col in cols_for_matrix_profile:\n",
    "    groups = discover_motifs_groups(mps[f'mp_{col}'], THRESHOLD)\n",
    "    plot_groups(df, groups, f'{col}', WINDOW)"
   ]
  },
  {
   "cell_type": "markdown",
   "metadata": {},
   "source": [
    "**Plot multi variant matrix profiles**"
   ]
  },
  {
   "cell_type": "code",
   "execution_count": null,
   "metadata": {},
   "outputs": [],
   "source": [
    "plot_multi_variant_matrix_profile(mps, cols_for_matrix_profile)"
   ]
  }
 ],
 "metadata": {
  "kernelspec": {
   "display_name": "Python 3",
   "language": "python",
   "name": "python3"
  },
  "language_info": {
   "codemirror_mode": {
    "name": "ipython",
    "version": 3
   },
   "file_extension": ".py",
   "mimetype": "text/x-python",
   "name": "python",
   "nbconvert_exporter": "python",
   "pygments_lexer": "ipython3",
   "version": "3.7.6"
  },
  "nbTranslate": {
   "displayLangs": [
    "*"
   ],
   "hotkey": "alt-t",
   "langInMainMenu": true,
   "sourceLang": "en",
   "targetLang": "fr",
   "useGoogleTranslate": true
  },
  "toc": {
   "base_numbering": 1,
   "nav_menu": {},
   "number_sections": true,
   "sideBar": true,
   "skip_h1_title": false,
   "title_cell": "Table of Contents",
   "title_sidebar": "Contents",
   "toc_cell": false,
   "toc_position": {},
   "toc_section_display": true,
   "toc_window_display": false
  }
 },
 "nbformat": 4,
 "nbformat_minor": 4
}
