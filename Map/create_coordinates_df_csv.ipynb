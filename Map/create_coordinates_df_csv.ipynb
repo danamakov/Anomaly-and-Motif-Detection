{
 "cells": [
  {
   "cell_type": "markdown",
   "metadata": {},
   "source": [
    "# Create coordinates df to csv\n",
    "\n",
    "This file create CSV file containing motif information of a chosen water authorities."
   ]
  },
  {
   "cell_type": "markdown",
   "metadata": {
    "collapsed": "true"
   },
   "source": [
    "**Import Libraries**"
   ]
  },
  {
   "cell_type": "code",
   "execution_count": null,
   "metadata": {},
   "outputs": [],
   "source": [
    "warnings.filterwarnings('ignore')\n",
    "%run ../utils.ipynb"
   ]
  },
  {
   "cell_type": "code",
   "execution_count": 1,
   "metadata": {},
   "outputs": [],
   "source": [
    "import json\n",
    "import pandas as pd\n",
    "import datetime\n",
    "import warnings\n",
    "from tqdm.notebook import tqdm_notebook"
   ]
  },
  {
   "cell_type": "markdown",
   "metadata": {},
   "source": [
    "**Global Variables**"
   ]
  },
  {
   "cell_type": "code",
   "execution_count": 2,
   "metadata": {},
   "outputs": [],
   "source": [
    "WATER_AUTHORITY_NUM = '24'\n",
    "START = datetime.datetime(2020, 1, 1, 0, 0).timestamp()"
   ]
  },
  {
   "cell_type": "markdown",
   "metadata": {},
   "source": [
    "**Create DF**"
   ]
  },
  {
   "cell_type": "code",
   "execution_count": 3,
   "metadata": {},
   "outputs": [],
   "source": [
    "client = connect_from_othe_dir()"
   ]
  },
  {
   "cell_type": "code",
   "execution_count": 4,
   "metadata": {},
   "outputs": [],
   "source": [
    "df = pd.DataFrame(columns=['point_id', 'point_name', 'sector_id', 'sector_name', 'latitude', 'longitude'])"
   ]
  },
  {
   "cell_type": "code",
   "execution_count": 5,
   "metadata": {},
   "outputs": [],
   "source": [
    "with open('../water_authority.json') as json_file:\n",
    "    data = json.load(json_file)"
   ]
  },
  {
   "cell_type": "code",
   "execution_count": 6,
   "metadata": {},
   "outputs": [
    {
     "name": "stdout",
     "output_type": "stream",
     "text": [
      "Kando - GET /api/data/fetch?point_id=882&unit_id=&start=1577829600.0&end=&raw_data=\n",
      "Kando - GET /api/data/fetch?point_id=882&unit_id=&start=1593928800&end=&raw_data=\n"
     ]
    }
   ],
   "source": [
    "temp_node = data[WATER_AUTHORITY_NUM]['nodes'][0]\n",
    "temp_point = client.get_all(point_id=temp_node, start=START)\n",
    "file_name = temp_point['point']['group']['water_authority']['name']"
   ]
  },
  {
   "cell_type": "code",
   "execution_count": 7,
   "metadata": {},
   "outputs": [
    {
     "data": {
      "application/vnd.jupyter.widget-view+json": {
       "model_id": "e056b1968cfa462d9f22b178f46b0931",
       "version_major": 2,
       "version_minor": 0
      },
      "text/plain": [
       "HBox(children=(FloatProgress(value=0.0, max=67.0), HTML(value='')))"
      ]
     },
     "metadata": {},
     "output_type": "display_data"
    },
    {
     "name": "stdout",
     "output_type": "stream",
     "text": [
      "Kando - GET /api/data/fetch?point_id=882&unit_id=&start=1577829600.0&end=&raw_data=\n",
      "Kando - GET /api/data/fetch?point_id=882&unit_id=&start=1593928800&end=&raw_data=\n",
      "Kando - GET /api/data/fetch?point_id=883&unit_id=&start=1577829600.0&end=&raw_data=\n",
      "Kando - GET /api/data/fetch?point_id=883&unit_id=&start=1593928800&end=&raw_data=\n",
      "Kando - GET /api/data/fetch?point_id=888&unit_id=&start=1577829600.0&end=&raw_data=\n",
      "Kando - GET /api/data/fetch?point_id=888&unit_id=&start=1585839600&end=&raw_data=\n",
      "Kando - GET /api/data/fetch?point_id=888&unit_id=&start=1593918000&end=&raw_data=\n",
      "Kando - GET /api/data/fetch?point_id=891&unit_id=&start=1577829600.0&end=&raw_data=\n",
      "Kando - GET /api/data/fetch?point_id=891&unit_id=&start=1585219800&end=&raw_data=\n",
      "Kando - GET /api/data/fetch?point_id=891&unit_id=&start=1593918000&end=&raw_data=\n",
      "Kando - GET /api/data/fetch?point_id=896&unit_id=&start=1577829600.0&end=&raw_data=\n",
      "Kando - GET /api/data/fetch?point_id=896&unit_id=&start=1585316700&end=&raw_data=\n",
      "Kando - GET /api/data/fetch?point_id=896&unit_id=&start=1592809500&end=&raw_data=\n",
      "Kando - GET /api/data/fetch?point_id=896&unit_id=&start=1593918000&end=&raw_data=\n",
      "Kando - GET /api/data/fetch?point_id=903&unit_id=&start=1577829600.0&end=&raw_data=\n",
      "Kando - GET /api/data/fetch?point_id=903&unit_id=&start=1585313700&end=&raw_data=\n",
      "Kando - GET /api/data/fetch?point_id=903&unit_id=&start=1592793300&end=&raw_data=\n",
      "Kando - GET /api/data/fetch?point_id=903&unit_id=&start=1593918000&end=&raw_data=\n",
      "Kando - GET /api/data/fetch?point_id=907&unit_id=&start=1577829600.0&end=&raw_data=\n",
      "Kando - GET /api/data/fetch?point_id=907&unit_id=&start=1592122500&end=&raw_data=\n",
      "Kando - GET /api/data/fetch?point_id=907&unit_id=&start=1593918000&end=&raw_data=\n",
      "Kando - GET /api/data/fetch?point_id=909&unit_id=&start=1577829600.0&end=&raw_data=\n",
      "Kando - GET /api/data/fetch?point_id=909&unit_id=&start=1585281000&end=&raw_data=\n",
      "Kando - GET /api/data/fetch?point_id=909&unit_id=&start=1593918000&end=&raw_data=\n",
      "Kando - GET /api/data/fetch?point_id=911&unit_id=&start=1577829600.0&end=&raw_data=\n",
      "Kando - GET /api/data/fetch?point_id=911&unit_id=&start=1590480000&end=&raw_data=\n",
      "Kando - GET /api/data/fetch?point_id=911&unit_id=&start=1593918000&end=&raw_data=\n",
      "Kando - GET /api/data/fetch?point_id=916&unit_id=&start=1577829600.0&end=&raw_data=\n",
      "Kando - GET /api/data/fetch?point_id=916&unit_id=&start=1585243500&end=&raw_data=\n",
      "Kando - GET /api/data/fetch?point_id=916&unit_id=&start=1592773800&end=&raw_data=\n",
      "Kando - GET /api/data/fetch?point_id=916&unit_id=&start=1593922500&end=&raw_data=\n",
      "Kando - GET /api/data/fetch?point_id=919&unit_id=&start=1577829600.0&end=&raw_data=\n",
      "Kando - GET /api/data/fetch?point_id=919&unit_id=&start=1585951200&end=&raw_data=\n",
      "Kando - GET /api/data/fetch?point_id=919&unit_id=&start=1593918000&end=&raw_data=\n",
      "Kando - GET /api/data/fetch?point_id=925&unit_id=&start=1577829600.0&end=&raw_data=\n",
      "Kando - GET /api/data/fetch?point_id=925&unit_id=&start=1585137000&end=&raw_data=\n",
      "Kando - GET /api/data/fetch?point_id=925&unit_id=&start=1593921840&end=&raw_data=\n",
      "Kando - GET /api/data/fetch?point_id=927&unit_id=&start=1577829600.0&end=&raw_data=\n",
      "Kando - GET /api/data/fetch?point_id=927&unit_id=&start=1589133600&end=&raw_data=\n",
      "Kando - GET /api/data/fetch?point_id=927&unit_id=&start=1593918000&end=&raw_data=\n",
      "Kando - GET /api/data/fetch?point_id=931&unit_id=&start=1577829600.0&end=&raw_data=\n",
      "Kando - GET /api/data/fetch?point_id=931&unit_id=&start=1587532560&end=&raw_data=\n",
      "Kando - GET /api/data/fetch?point_id=931&unit_id=&start=1593920700&end=&raw_data=\n",
      "Kando - GET /api/data/fetch?point_id=955&unit_id=&start=1577829600.0&end=&raw_data=\n",
      "Kando - GET /api/data/fetch?point_id=955&unit_id=&start=1585363500&end=&raw_data=\n",
      "Kando - GET /api/data/fetch?point_id=955&unit_id=&start=1585549560&end=&raw_data=\n",
      "Kando - GET /api/data/fetch?point_id=956&unit_id=&start=1577829600.0&end=&raw_data=\n",
      "Kando - GET /api/data/fetch?point_id=956&unit_id=&start=1585323420&end=&raw_data=\n",
      "Kando - GET /api/data/fetch?point_id=956&unit_id=&start=1592868900&end=&raw_data=\n",
      "Kando - GET /api/data/fetch?point_id=956&unit_id=&start=1593918000&end=&raw_data=\n",
      "Kando - GET /api/data/fetch?point_id=969&unit_id=&start=1577829600.0&end=&raw_data=\n",
      "Kando - GET /api/data/fetch?point_id=969&unit_id=&start=1585211700&end=&raw_data=\n",
      "Kando - GET /api/data/fetch?point_id=969&unit_id=&start=1592899500&end=&raw_data=\n",
      "Kando - GET /api/data/fetch?point_id=969&unit_id=&start=1604577600&end=&raw_data=\n",
      "Kando - GET /api/data/fetch?point_id=976&unit_id=&start=1577829600.0&end=&raw_data=\n",
      "Kando - GET /api/data/fetch?point_id=976&unit_id=&start=1585316700&end=&raw_data=\n",
      "Kando - GET /api/data/fetch?point_id=976&unit_id=&start=1593918000&end=&raw_data=\n",
      "Kando - GET /api/data/fetch?point_id=985&unit_id=&start=1577829600.0&end=&raw_data=\n",
      "Kando - GET /api/data/fetch?point_id=985&unit_id=&start=1593928320&end=&raw_data=\n",
      "Kando - GET /api/data/fetch?point_id=995&unit_id=&start=1577829600.0&end=&raw_data=\n",
      "Kando - GET /api/data/fetch?point_id=995&unit_id=&start=1593918000&end=&raw_data=\n",
      "Kando - GET /api/data/fetch?point_id=997&unit_id=&start=1577829600.0&end=&raw_data=\n",
      "Kando - GET /api/data/fetch?point_id=997&unit_id=&start=1585250460&end=&raw_data=\n",
      "Kando - GET /api/data/fetch?point_id=997&unit_id=&start=1593928800&end=&raw_data=\n",
      "Kando - GET /api/data/fetch?point_id=1012&unit_id=&start=1577829600.0&end=&raw_data=\n",
      "Kando - GET /api/data/fetch?point_id=1012&unit_id=&start=1593590400&end=&raw_data=\n",
      "Kando - GET /api/data/fetch?point_id=1013&unit_id=&start=1577829600.0&end=&raw_data=\n",
      "Kando - GET /api/data/fetch?point_id=1013&unit_id=&start=1585330200&end=&raw_data=\n",
      "Kando - GET /api/data/fetch?point_id=1013&unit_id=&start=1592840700&end=&raw_data=\n",
      "Kando - GET /api/data/fetch?point_id=1013&unit_id=&start=1593918000&end=&raw_data=\n",
      "Kando - GET /api/data/fetch?point_id=1023&unit_id=&start=1577829600.0&end=&raw_data=\n",
      "Kando - GET /api/data/fetch?point_id=1023&unit_id=&start=1585299600&end=&raw_data=\n",
      "Kando - GET /api/data/fetch?point_id=1023&unit_id=&start=1592768700&end=&raw_data=\n",
      "Kando - GET /api/data/fetch?point_id=1023&unit_id=&start=1593918000&end=&raw_data=\n",
      "Kando - GET /api/data/fetch?point_id=1033&unit_id=&start=1577829600.0&end=&raw_data=\n",
      "Kando - GET /api/data/fetch?point_id=1033&unit_id=&start=1585316100&end=&raw_data=\n",
      "Kando - GET /api/data/fetch?point_id=1033&unit_id=&start=1592823300&end=&raw_data=\n",
      "Kando - GET /api/data/fetch?point_id=1033&unit_id=&start=1593918000&end=&raw_data=\n",
      "Kando - GET /api/data/fetch?point_id=1057&unit_id=&start=1577829600.0&end=&raw_data=\n",
      "Kando - GET /api/data/fetch?point_id=1057&unit_id=&start=1588257300&end=&raw_data=\n",
      "Kando - GET /api/data/fetch?point_id=1057&unit_id=&start=1593918000&end=&raw_data=\n",
      "Kando - GET /api/data/fetch?point_id=1080&unit_id=&start=1577829600.0&end=&raw_data=\n",
      "Kando - GET /api/data/fetch?point_id=1080&unit_id=&start=1585236600&end=&raw_data=\n",
      "Kando - GET /api/data/fetch?point_id=1080&unit_id=&start=1593918000&end=&raw_data=\n",
      "Kando - GET /api/data/fetch?point_id=1098&unit_id=&start=1577829600.0&end=&raw_data=\n",
      "Kando - GET /api/data/fetch?point_id=1098&unit_id=&start=1586699400&end=&raw_data=\n",
      "Kando - GET /api/data/fetch?point_id=1098&unit_id=&start=1593918000&end=&raw_data=\n",
      "Kando - GET /api/data/fetch?point_id=1104&unit_id=&start=1577829600.0&end=&raw_data=\n",
      "Kando - GET /api/data/fetch?point_id=1104&unit_id=&start=1587019800&end=&raw_data=\n",
      "Kando - GET /api/data/fetch?point_id=1104&unit_id=&start=1605046200&end=&raw_data=\n",
      "Kando - GET /api/data/fetch?point_id=1191&unit_id=&start=1577829600.0&end=&raw_data=\n",
      "Kando - GET /api/data/fetch?point_id=1191&unit_id=&start=1587866400&end=&raw_data=\n",
      "Kando - GET /api/data/fetch?point_id=1191&unit_id=&start=1593921720&end=&raw_data=\n",
      "Kando - GET /api/data/fetch?point_id=1192&unit_id=&start=1577829600.0&end=&raw_data=\n",
      "Kando - GET /api/data/fetch?point_id=1192&unit_id=&start=1585350000&end=&raw_data=\n",
      "Kando - GET /api/data/fetch?point_id=1192&unit_id=&start=1593136800&end=&raw_data=\n",
      "Kando - GET /api/data/fetch?point_id=1192&unit_id=&start=1593918000&end=&raw_data=\n",
      "Kando - GET /api/data/fetch?point_id=1238&unit_id=&start=1577829600.0&end=&raw_data=\n",
      "Kando - GET /api/data/fetch?point_id=1238&unit_id=&start=1585274400&end=&raw_data=\n"
     ]
    },
    {
     "name": "stdout",
     "output_type": "stream",
     "text": [
      "Kando - GET /api/data/fetch?point_id=1238&unit_id=&start=1593257100&end=&raw_data=\n",
      "Kando - GET /api/data/fetch?point_id=1238&unit_id=&start=1593918000&end=&raw_data=\n",
      "Kando - GET /api/data/fetch?point_id=1263&unit_id=&start=1577829600.0&end=&raw_data=\n",
      "Kando - GET /api/data/fetch?point_id=1263&unit_id=&start=1587131400&end=&raw_data=\n",
      "Kando - GET /api/data/fetch?point_id=1263&unit_id=&start=1593918000&end=&raw_data=\n",
      "Kando - GET /api/data/fetch?point_id=1332&unit_id=&start=1577829600.0&end=&raw_data=\n",
      "Kando - GET /api/data/fetch?point_id=1332&unit_id=&start=1586070000&end=&raw_data=\n",
      "Kando - GET /api/data/fetch?point_id=1332&unit_id=&start=1593918000&end=&raw_data=\n",
      "Kando - GET /api/data/fetch?point_id=1333&unit_id=&start=1577829600.0&end=&raw_data=\n",
      "Kando - GET /api/data/fetch?point_id=1333&unit_id=&start=1585436400&end=&raw_data=\n",
      "Kando - GET /api/data/fetch?point_id=1333&unit_id=&start=1593918000&end=&raw_data=\n",
      "Kando - GET /api/data/fetch?point_id=1338&unit_id=&start=1577829600.0&end=&raw_data=\n",
      "Kando - GET /api/data/fetch?point_id=1338&unit_id=&start=1585830600&end=&raw_data=\n",
      "Kando - GET /api/data/fetch?point_id=1338&unit_id=&start=1593918000&end=&raw_data=\n",
      "Kando - GET /api/data/fetch?point_id=1340&unit_id=&start=1577829600.0&end=&raw_data=\n",
      "Kando - GET /api/data/fetch?point_id=1340&unit_id=&start=1579899960&end=&raw_data=\n",
      "Kando - GET /api/data/fetch?point_id=1358&unit_id=&start=1577829600.0&end=&raw_data=\n",
      "Kando - GET /api/data/fetch?point_id=1358&unit_id=&start=1585161600&end=&raw_data=\n",
      "Kando - GET /api/data/fetch?point_id=1358&unit_id=&start=1592589000&end=&raw_data=\n",
      "Kando - GET /api/data/fetch?point_id=1358&unit_id=&start=1593918000&end=&raw_data=\n",
      "Kando - GET /api/data/fetch?point_id=1372&unit_id=&start=1577829600.0&end=&raw_data=\n",
      "Kando - GET /api/data/fetch?point_id=1372&unit_id=&start=1585072500&end=&raw_data=\n",
      "Kando - GET /api/data/fetch?point_id=1372&unit_id=&start=1593918000&end=&raw_data=\n",
      "Kando - GET /api/data/fetch?point_id=1373&unit_id=&start=1577829600.0&end=&raw_data=\n",
      "Kando - GET /api/data/fetch?point_id=1373&unit_id=&start=1585459800&end=&raw_data=\n",
      "Kando - GET /api/data/fetch?point_id=1373&unit_id=&start=1593918000&end=&raw_data=\n",
      "Kando - GET /api/data/fetch?point_id=1375&unit_id=&start=1577829600.0&end=&raw_data=\n",
      "Kando - GET /api/data/fetch?point_id=1375&unit_id=&start=1585343100&end=&raw_data=\n",
      "Kando - GET /api/data/fetch?point_id=1375&unit_id=&start=1592398200&end=&raw_data=\n",
      "Kando - GET /api/data/fetch?point_id=1375&unit_id=&start=1593928020&end=&raw_data=\n",
      "Kando - GET /api/data/fetch?point_id=1461&unit_id=&start=1577829600.0&end=&raw_data=\n",
      "Kando - GET /api/data/fetch?point_id=1461&unit_id=&start=1587780000&end=&raw_data=\n",
      "Kando - GET /api/data/fetch?point_id=1461&unit_id=&start=1593918000&end=&raw_data=\n",
      "Kando - GET /api/data/fetch?point_id=1490&unit_id=&start=1577829600.0&end=&raw_data=\n",
      "Kando - GET /api/data/fetch?point_id=1490&unit_id=&start=1588916700&end=&raw_data=\n",
      "Kando - GET /api/data/fetch?point_id=1490&unit_id=&start=1593918000&end=&raw_data=\n",
      "Kando - GET /api/data/fetch?point_id=1530&unit_id=&start=1577829600.0&end=&raw_data=\n",
      "Kando - GET /api/data/fetch?point_id=1530&unit_id=&start=1585314900&end=&raw_data=\n",
      "Kando - GET /api/data/fetch?point_id=1530&unit_id=&start=1592745300&end=&raw_data=\n",
      "Kando - GET /api/data/fetch?point_id=1530&unit_id=&start=1593918000&end=&raw_data=\n",
      "Kando - GET /api/data/fetch?point_id=1542&unit_id=&start=1577829600.0&end=&raw_data=\n",
      "Kando - GET /api/data/fetch?point_id=1542&unit_id=&start=1585285080&end=&raw_data=\n",
      "Kando - GET /api/data/fetch?point_id=1542&unit_id=&start=1593462300&end=&raw_data=\n",
      "Kando - GET /api/data/fetch?point_id=1542&unit_id=&start=1593918000&end=&raw_data=\n",
      "Kando - GET /api/data/fetch?point_id=1561&unit_id=&start=1577829600.0&end=&raw_data=\n",
      "Kando - GET /api/data/fetch?point_id=1561&unit_id=&start=1585440000&end=&raw_data=\n",
      "Kando - GET /api/data/fetch?point_id=1561&unit_id=&start=1593029100&end=&raw_data=\n",
      "Kando - GET /api/data/fetch?point_id=1561&unit_id=&start=1593918000&end=&raw_data=\n",
      "Kando - GET /api/data/fetch?point_id=1568&unit_id=&start=1577829600.0&end=&raw_data=\n",
      "Kando - GET /api/data/fetch?point_id=1568&unit_id=&start=1585111800&end=&raw_data=\n",
      "Kando - GET /api/data/fetch?point_id=1568&unit_id=&start=1592965500&end=&raw_data=\n",
      "Kando - GET /api/data/fetch?point_id=1568&unit_id=&start=1593928800&end=&raw_data=\n",
      "Kando - GET /api/data/fetch?point_id=1584&unit_id=&start=1577829600.0&end=&raw_data=\n",
      "Kando - GET /api/data/fetch?point_id=1584&unit_id=&start=1585770600&end=&raw_data=\n",
      "Kando - GET /api/data/fetch?point_id=1584&unit_id=&start=1593931020&end=&raw_data=\n",
      "Kando - GET /api/data/fetch?point_id=1660&unit_id=&start=1577829600.0&end=&raw_data=\n",
      "Kando - GET /api/data/fetch?point_id=1660&unit_id=&start=1585073400&end=&raw_data=\n",
      "Kando - GET /api/data/fetch?point_id=1660&unit_id=&start=1592532000&end=&raw_data=\n",
      "Kando - GET /api/data/fetch?point_id=1660&unit_id=&start=1593918000&end=&raw_data=\n",
      "Kando - GET /api/data/fetch?point_id=1908&unit_id=&start=1577829600.0&end=&raw_data=\n",
      "Kando - GET /api/data/fetch?point_id=1908&unit_id=&start=1585383000&end=&raw_data=\n",
      "Kando - GET /api/data/fetch?point_id=1908&unit_id=&start=1592920200&end=&raw_data=\n",
      "Kando - GET /api/data/fetch?point_id=1908&unit_id=&start=1593918000&end=&raw_data=\n",
      "Kando - GET /api/data/fetch?point_id=1991&unit_id=&start=1577829600.0&end=&raw_data=\n",
      "Kando - GET /api/data/fetch?point_id=1991&unit_id=&start=1585947000&end=&raw_data=\n",
      "Kando - GET /api/data/fetch?point_id=1991&unit_id=&start=1593918000&end=&raw_data=\n",
      "Kando - GET /api/data/fetch?point_id=1994&unit_id=&start=1577829600.0&end=&raw_data=\n",
      "Kando - GET /api/data/fetch?point_id=1994&unit_id=&start=1593918000&end=&raw_data=\n",
      "Kando - GET /api/data/fetch?point_id=2045&unit_id=&start=1577829600.0&end=&raw_data=\n",
      "Kando - GET /api/data/fetch?point_id=2045&unit_id=&start=1585694100&end=&raw_data=\n",
      "Kando - GET /api/data/fetch?point_id=2045&unit_id=&start=1593317100&end=&raw_data=\n",
      "Kando - GET /api/data/fetch?point_id=2045&unit_id=&start=1593918000&end=&raw_data=\n",
      "Kando - GET /api/data/fetch?point_id=2292&unit_id=&start=1577829600.0&end=&raw_data=\n",
      "Kando - GET /api/data/fetch?point_id=2292&unit_id=&start=1593534120&end=&raw_data=\n",
      "Kando - GET /api/data/fetch?point_id=2292&unit_id=&start=1593912720&end=&raw_data=\n",
      "Kando - GET /api/data/fetch?point_id=2294&unit_id=&start=1577829600.0&end=&raw_data=\n",
      "Kando - GET /api/data/fetch?point_id=2294&unit_id=&start=1593917220&end=&raw_data=\n",
      "Kando - GET /api/data/fetch?point_id=2295&unit_id=&start=1577829600.0&end=&raw_data=\n",
      "Kando - GET /api/data/fetch?point_id=2295&unit_id=&start=1592273400&end=&raw_data=\n",
      "Kando - GET /api/data/fetch?point_id=3029&unit_id=&start=1577829600.0&end=&raw_data=\n",
      "Kando - GET /api/data/fetch?point_id=3029&unit_id=&start=1584824220&end=&raw_data=\n",
      "Kando - GET /api/data/fetch?point_id=3029&unit_id=&start=1592187900&end=&raw_data=\n",
      "Kando - GET /api/data/fetch?point_id=3029&unit_id=&start=1593918000&end=&raw_data=\n",
      "Kando - GET /api/data/fetch?point_id=3226&unit_id=&start=1577829600.0&end=&raw_data=\n",
      "Kando - GET /api/data/fetch?point_id=3226&unit_id=&start=1593918000&end=&raw_data=\n",
      "Kando - GET /api/data/fetch?point_id=3256&unit_id=&start=1577829600.0&end=&raw_data=\n",
      "Kando - GET /api/data/fetch?point_id=3256&unit_id=&start=1585285800&end=&raw_data=\n",
      "Kando - GET /api/data/fetch?point_id=3256&unit_id=&start=1593410280&end=&raw_data=\n",
      "Kando - GET /api/data/fetch?point_id=3436&unit_id=&start=1577829600.0&end=&raw_data=\n",
      "Kando - GET /api/data/fetch?point_id=3436&unit_id=&start=1593928800&end=&raw_data=\n",
      "Kando - GET /api/data/fetch?point_id=3668&unit_id=&start=1577829600.0&end=&raw_data=\n",
      "Kando - GET /api/data/fetch?point_id=3668&unit_id=&start=1593923580&end=&raw_data=\n",
      "Kando - GET /api/data/fetch?point_id=4067&unit_id=&start=1577829600.0&end=&raw_data=\n",
      "Kando - GET /api/data/fetch?point_id=4067&unit_id=&start=1593928800&end=&raw_data=\n",
      "Kando - GET /api/data/fetch?point_id=4210&unit_id=&start=1577829600.0&end=&raw_data=\n",
      "Kando - GET /api/data/fetch?point_id=4210&unit_id=&start=1593928800&end=&raw_data=\n",
      "Kando - GET /api/data/fetch?point_id=4338&unit_id=&start=1577829600.0&end=&raw_data=\n",
      "Kando - GET /api/data/fetch?point_id=4338&unit_id=&start=1592942400&end=&raw_data=\n"
     ]
    },
    {
     "name": "stdout",
     "output_type": "stream",
     "text": [
      "Kando - GET /api/data/fetch?point_id=4338&unit_id=&start=1593918000&end=&raw_data=\n",
      "Kando - GET /api/data/fetch?point_id=4386&unit_id=&start=1577829600.0&end=&raw_data=\n",
      "Kando - GET /api/data/fetch?point_id=4386&unit_id=&start=1593928800&end=&raw_data=\n",
      "Kando - GET /api/data/fetch?point_id=5056&unit_id=&start=1577829600.0&end=&raw_data=\n",
      "Kando - GET /api/data/fetch?point_id=5056&unit_id=&start=1578974400&end=&raw_data=\n",
      "Kando - GET /api/data/fetch?point_id=5058&unit_id=&start=1577829600.0&end=&raw_data=\n",
      "Kando - GET /api/data/fetch?point_id=5058&unit_id=&start=1588852800&end=&raw_data=\n",
      "Kando - GET /api/data/fetch?point_id=5058&unit_id=&start=1593918000&end=&raw_data=\n",
      "\n"
     ]
    }
   ],
   "source": [
    "for node in tqdm_notebook(data[WATER_AUTHORITY_NUM]['nodes']):\n",
    "    temp_point = client.get_all(point_id=node, start=START)\n",
    "    my_dict = {}\n",
    "    my_dict['point_id'] = [temp_point['point']['id']]\n",
    "    my_dict['point_name'] = [temp_point['point']['name']]\n",
    "    my_dict['sector_id'] = [temp_point['point']['group']['sector']['id']]\n",
    "    my_dict['sector_name'] = [temp_point['point']['group']['sector']['name']]\n",
    "    my_dict['latitude'] = [temp_point['point']['latitude']]\n",
    "    my_dict['longitude'] = [temp_point['point']['longitude']]\n",
    "    temp_df = pd.DataFrame.from_dict(my_dict)\n",
    "    df = pd.concat([temp_df, df], ignore_index=True)"
   ]
  },
  {
   "cell_type": "markdown",
   "metadata": {},
   "source": [
    "**Save to csv file**"
   ]
  },
  {
   "cell_type": "code",
   "execution_count": 8,
   "metadata": {},
   "outputs": [],
   "source": [
    "df.to_csv(f'{file_name}.csv')"
   ]
  }
 ],
 "metadata": {
  "kernelspec": {
   "display_name": "Python 3",
   "language": "python",
   "name": "python3"
  },
  "language_info": {
   "codemirror_mode": {
    "name": "ipython",
    "version": 3
   },
   "file_extension": ".py",
   "mimetype": "text/x-python",
   "name": "python",
   "nbconvert_exporter": "python",
   "pygments_lexer": "ipython3",
   "version": "3.7.6"
  },
  "nbTranslate": {
   "displayLangs": [
    "*"
   ],
   "hotkey": "alt-t",
   "langInMainMenu": true,
   "sourceLang": "en",
   "targetLang": "fr",
   "useGoogleTranslate": true
  },
  "toc": {
   "base_numbering": 1,
   "nav_menu": {},
   "number_sections": false,
   "sideBar": false,
   "skip_h1_title": false,
   "title_cell": "Table of Contents",
   "title_sidebar": "Contents",
   "toc_cell": false,
   "toc_position": {},
   "toc_section_display": false,
   "toc_window_display": false
  }
 },
 "nbformat": 4,
 "nbformat_minor": 4
}
