{
 "cells": [
  {
   "cell_type": "markdown",
   "metadata": {
    "collapsed": "true"
   },
   "source": [
    "# Create water authority and sectors json files\n",
    "\n",
    "This file use Kando API to create and save 2 files:\n",
    "* `water_authority.json` - file containing a dictionary of all points ID by water authorities\n",
    "* `sectors.json` - file containing a dictionary of all points ID by sectors"
   ]
  },
  {
   "cell_type": "markdown",
   "metadata": {},
   "source": [
    "**Import Libraries**"
   ]
  },
  {
   "cell_type": "code",
   "execution_count": null,
   "metadata": {},
   "outputs": [],
   "source": [
    "import warnings\n",
    "warnings.filterwarnings('ignore')"
   ]
  },
  {
   "cell_type": "code",
   "execution_count": null,
   "metadata": {},
   "outputs": [],
   "source": [
    "import json\n",
    "import networkx as nx\n",
    "from kando import kando_client\n",
    "from matplotlib import pyplot as plt\n",
    "import pandas as pd\n",
    "import json\n",
    "import datetime\n",
    "%matplotlib inline"
   ]
  },
  {
   "cell_type": "markdown",
   "metadata": {},
   "source": [
    "**Functions**"
   ]
  },
  {
   "cell_type": "code",
   "execution_count": null,
   "metadata": {},
   "outputs": [],
   "source": [
    "def connect():\n",
    "    \"\"\"\n",
    "    connect to Kando API with json file\n",
    "    :return: client\n",
    "    \"\"\"\n",
    "\n",
    "    with open('../key.json') as f:\n",
    "        api_login = json.load(f)\n",
    "\n",
    "    url = \"https://kando-staging.herokuapp.com\"\n",
    "    client = kando_client.client(url, api_login['key'], api_login['secret'])\n",
    "    return client"
   ]
  },
  {
   "cell_type": "markdown",
   "metadata": {},
   "source": [
    "**Connect to API**"
   ]
  },
  {
   "cell_type": "code",
   "execution_count": null,
   "metadata": {},
   "outputs": [],
   "source": [
    "client = connect()"
   ]
  },
  {
   "cell_type": "markdown",
   "metadata": {},
   "source": [
    "**Define water authority numbers**"
   ]
  },
  {
   "cell_type": "code",
   "execution_count": null,
   "metadata": {},
   "outputs": [],
   "source": [
    "water_authority = [\n",
    "    244, 63, 22, 100, 41, 24, 49, 91, 50, 261, 32, 33, 7, 19, 240, 45, 48, 2,\n",
    "    38, 242, 3, 190, 36, 58, 243, 83, 9, 5, 60, 72, 34, 8, 4, 195, 17, 252\n",
    "]"
   ]
  },
  {
   "cell_type": "markdown",
   "metadata": {},
   "source": [
    "**Get the relevant information of the data points**"
   ]
  },
  {
   "cell_type": "code",
   "execution_count": null,
   "metadata": {},
   "outputs": [],
   "source": [
    "sector_dict = {}\n",
    "water_authority_dict = {}"
   ]
  },
  {
   "cell_type": "code",
   "execution_count": null,
   "metadata": {
    "scrolled": true
   },
   "outputs": [],
   "source": [
    "for node in range(6000):\n",
    "    try:\n",
    "        start = datetime.datetime(2020, 1, 1, 0, 0).timestamp()\n",
    "        point = client.get_all(point_id=node, start=start)\n",
    "\n",
    "        if point['point']['group']['water_authority']['id'] in water_authority:\n",
    "            print(node, 'Belongs to Israeli water authority')\n",
    "            print(node, ' has ', len(point['samplings']), ' samplings.')\n",
    "\n",
    "            if len(point['samplings']) > 0:\n",
    "\n",
    "                cur_sector = point['point']['group']['sector']['id']\n",
    "                sector_name = point['point']['group']['sector']['name']\n",
    "                cur_authority = point['point']['group']['water_authority'][\n",
    "                    'id']\n",
    "                authority_name = point['point']['group']['water_authority'][\n",
    "                    'name']\n",
    "\n",
    "                print(cur_sector, sector_name, cur_authority, authority_name)\n",
    "\n",
    "                if (cur_sector, sector_name) not in sector_dict:\n",
    "                    sector_dict[(cur_sector, sector_name)] = [node]\n",
    "                else:\n",
    "                    sector_dict[(cur_sector, sector_name)].append(node)\n",
    "\n",
    "                if (cur_authority, authority_name) not in water_authority_dict:\n",
    "                    water_authority_dict[(cur_authority,\n",
    "                                          authority_name)] = [node]\n",
    "                else:\n",
    "                    water_authority_dict[(cur_authority,\n",
    "                                          authority_name)].append(node)\n",
    "\n",
    "        else:\n",
    "            print(node, 'Belongs to foriegn water authority')\n",
    "    except:\n",
    "        print(f'no node in {node}')"
   ]
  },
  {
   "cell_type": "code",
   "execution_count": null,
   "metadata": {},
   "outputs": [],
   "source": [
    "sector_dict"
   ]
  },
  {
   "cell_type": "code",
   "execution_count": null,
   "metadata": {},
   "outputs": [],
   "source": [
    "water_authority_dict"
   ]
  },
  {
   "cell_type": "code",
   "execution_count": null,
   "metadata": {},
   "outputs": [],
   "source": [
    "new_dict = {}\n",
    "for k, v in sector_dict.items():\n",
    "    new_dict[f'{k[0]}'] = {'name': k[1], 'nodes': v}\n",
    "\n",
    "new_dict"
   ]
  },
  {
   "cell_type": "code",
   "execution_count": null,
   "metadata": {},
   "outputs": [],
   "source": [
    "with open('sectors.json', 'w') as fp:\n",
    "    json.dump(new_dict, fp)"
   ]
  },
  {
   "cell_type": "code",
   "execution_count": null,
   "metadata": {
    "scrolled": true
   },
   "outputs": [],
   "source": [
    "new_dict = {}\n",
    "for k, v in water_authority_dict.items():\n",
    "    new_dict[f'{k[0]}'] = {'name': k[1], 'nodes': v}\n",
    "\n",
    "new_dict"
   ]
  },
  {
   "cell_type": "code",
   "execution_count": null,
   "metadata": {},
   "outputs": [],
   "source": [
    "with open('water_authority.json', 'w') as fp:\n",
    "    json.dump(new_dict, fp)"
   ]
  }
 ],
 "metadata": {
  "kernelspec": {
   "display_name": "Python 3",
   "language": "python",
   "name": "python3"
  },
  "language_info": {
   "codemirror_mode": {
    "name": "ipython",
    "version": 3
   },
   "file_extension": ".py",
   "mimetype": "text/x-python",
   "name": "python",
   "nbconvert_exporter": "python",
   "pygments_lexer": "ipython3",
   "version": "3.7.6"
  },
  "nbTranslate": {
   "displayLangs": [
    "*"
   ],
   "hotkey": "alt-t",
   "langInMainMenu": true,
   "sourceLang": "en",
   "targetLang": "fr",
   "useGoogleTranslate": true
  },
  "toc": {
   "base_numbering": 1,
   "nav_menu": {},
   "number_sections": false,
   "sideBar": false,
   "skip_h1_title": false,
   "title_cell": "Table of Contents",
   "title_sidebar": "Contents",
   "toc_cell": false,
   "toc_position": {},
   "toc_section_display": false,
   "toc_window_display": false
  }
 },
 "nbformat": 4,
 "nbformat_minor": 4
}
