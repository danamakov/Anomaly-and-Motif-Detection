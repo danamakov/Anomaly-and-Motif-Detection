{
 "cells": [
  {
   "cell_type": "markdown",
   "metadata": {},
   "source": [
    "# Create sectorial data\n",
    "\n",
    "This file aggregates the data of a sector in authority level, and saves it as pickle file."
   ]
  },
  {
   "cell_type": "markdown",
   "metadata": {},
   "source": [
    "**Import Libraries**"
   ]
  },
  {
   "cell_type": "code",
   "execution_count": null,
   "metadata": {},
   "outputs": [],
   "source": [
    "import warnings\n",
    "warnings.filterwarnings('ignore')"
   ]
  },
  {
   "cell_type": "code",
   "execution_count": null,
   "metadata": {},
   "outputs": [],
   "source": [
    "import json\n",
    "import pandas as pd\n",
    "import urllib\n",
    "from tqdm.notebook import tqdm\n",
    "import networkx as nx\n",
    "from kando import kando_client"
   ]
  },
  {
   "cell_type": "markdown",
   "metadata": {},
   "source": [
    "**Global Variables**"
   ]
  },
  {
   "cell_type": "code",
   "execution_count": null,
   "metadata": {},
   "outputs": [],
   "source": [
    "RESAMPLE = '15min'\n",
    "WINDOW = 12\n",
    "THRESHOLD = 0.05\n",
    "NODE = 1377\n",
    "SECTOR = 'Main Collector*'"
   ]
  },
  {
   "cell_type": "markdown",
   "metadata": {},
   "source": [
    "**Functions**"
   ]
  },
  {
   "cell_type": "code",
   "execution_count": null,
   "metadata": {},
   "outputs": [],
   "source": [
    "def connect():\n",
    "    \"\"\"\n",
    "    connect to Kando API with json file\n",
    "    :return: client\n",
    "    \"\"\"\n",
    "\n",
    "    with open('../key.json') as f:\n",
    "        api_login = json.load(f)\n",
    "\n",
    "    url = \"https://kando-staging.herokuapp.com\"\n",
    "    client = kando_client.client(url, api_login['key'], api_login['secret'])\n",
    "    return client"
   ]
  },
  {
   "cell_type": "code",
   "execution_count": null,
   "metadata": {},
   "outputs": [],
   "source": [
    "def _parser(node, graph):\n",
    "    \"\"\"\n",
    "    :param node: point ID\n",
    "    :param graph: networkx.DiGraph()\n",
    "    :return: recursively build graph from end node\n",
    "    \"\"\"\n",
    "\n",
    "    if len(node['children']) == 0:\n",
    "        graph.add_node(node['point_id'], name=node['point']['name'])\n",
    "        return\n",
    "    for child in node['children']:\n",
    "        graph.add_edges_from([(node['point_id'], child['point_id'])],\n",
    "                             weight=child['parent_distance'])\n",
    "        _parser(child, graph)"
   ]
  },
  {
   "cell_type": "code",
   "execution_count": null,
   "metadata": {},
   "outputs": [],
   "source": [
    "def get_graph(point_id):\n",
    "    \"\"\"\n",
    "    :param point_id: point ID\n",
    "    :return: nx.DiGraph() after using  _parser(g, G) to recursively build graph from the point ID\n",
    "    \"\"\"\n",
    "\n",
    "    g = client.network_graph(point_id)\n",
    "    G = nx.DiGraph()\n",
    "    _parser(g, G)\n",
    "    return G.reverse()"
   ]
  },
  {
   "cell_type": "code",
   "execution_count": null,
   "metadata": {},
   "outputs": [],
   "source": [
    "def create_sectorial_dataframe(sites_list, start_date=2020):\n",
    "    \"\"\"\n",
    "    :param sites_list: list of points ID\n",
    "    :param start_date: start day of data\n",
    "    :return: pandas DataFrame \n",
    "    \"\"\"\n",
    "\n",
    "    for i, site in tqdm(enumerate(sites_list)):\n",
    "        print(f'getting info from {site}')\n",
    "        site_dic = client.get_all(point_id=site, start=start_date)            \n",
    "        if len(site_dic['samplings'])>0:\n",
    "            print(f'creating a dataframe')\n",
    "            sector_tmp = get_data_for_sectorial_motif_detection(site_dic)\n",
    "            print(f'adding datafram to the sectorial dataframe')\n",
    "            if i==0:\n",
    "                sector = sector_tmp\n",
    "            else:\n",
    "                sector = pd.concat([sector, sector_tmp])\n",
    "        else:\n",
    "            print(f'No data about site {site}')\n",
    "    sector.reset_index(drop=True, inplace=True)\n",
    "    return sector"
   ]
  },
  {
   "cell_type": "code",
   "execution_count": null,
   "metadata": {},
   "outputs": [],
   "source": [
    "def get_data_for_sectorial_motif_detection(site_dic):\n",
    "    \"\"\"\n",
    "    :param sites_list: list of points ID\n",
    "    :return: pandas DataFrame \n",
    "    \"\"\"\n",
    "\n",
    "    df = pd.DataFrame.from_dict(site_dic['samplings'], orient='index')[[\n",
    "        'DateTime', 'PH', 'EC', 'ORP', 'TEMPERATURE'\n",
    "    ]]\n",
    "    df['date'] = df['DateTime']\n",
    "    df['DateTime'] = pd.to_datetime(df['DateTime'], unit='s')\n",
    "    df = df.set_index('DateTime')\n",
    "\n",
    "    impute_nulls_with_time_interpolation(df, df.columns , '5min')\n",
    "    df['date'] = pd.to_datetime(df['date'], unit='s')\n",
    "    df['weekday'] = df.date.apply(lambda x: x.weekday())\n",
    "    df['month'] = df.date.apply(lambda x: x.month)\n",
    "    df['hour'] = df.date.apply(lambda x: x.hour)\n",
    "    \n",
    "    values = [\n",
    "        site_dic['point_id'], site_dic['point']['pipe_info']['channel_shape'],\n",
    "        site_dic['point']['pipe_info']['diameter'],\n",
    "        site_dic['point']['group']['water_authority']['id'],\n",
    "        site_dic['point']['group']['sector']['id']\n",
    "    ]\n",
    "    df[['point_id', 'channel_shape', 'diameter', 'water_authority',\n",
    "        'sector']] = values\n",
    "\n",
    "    return (df)"
   ]
  },
  {
   "cell_type": "markdown",
   "metadata": {},
   "source": [
    "**Connect to API**"
   ]
  },
  {
   "cell_type": "code",
   "execution_count": null,
   "metadata": {},
   "outputs": [],
   "source": [
    "client = connect()"
   ]
  },
  {
   "cell_type": "markdown",
   "metadata": {},
   "source": [
    "**Create DF of chosen sector in chosen water authority**"
   ]
  },
  {
   "cell_type": "code",
   "execution_count": null,
   "metadata": {},
   "outputs": [],
   "source": [
    "G = get_graph(NODE)"
   ]
  },
  {
   "cell_type": "code",
   "execution_count": null,
   "metadata": {},
   "outputs": [],
   "source": [
    "gichon_nodes = nx.get_node_attributes(G, 'name')\n",
    "gichon_nodes"
   ]
  },
  {
   "cell_type": "code",
   "execution_count": null,
   "metadata": {},
   "outputs": [],
   "source": [
    "mifal = {k:v for k,v in gichon_nodes.items() if client.get_data(k)['point']['group']['sector']['name'] == SECTOR}    "
   ]
  },
  {
   "cell_type": "code",
   "execution_count": null,
   "metadata": {
    "scrolled": true
   },
   "outputs": [],
   "source": [
    "sector = list(mifal.keys())\n",
    "sector"
   ]
  },
  {
   "cell_type": "code",
   "execution_count": null,
   "metadata": {
    "scrolled": false
   },
   "outputs": [],
   "source": [
    "df = create_sectorial_dataframe(sector)\n",
    "df"
   ]
  },
  {
   "cell_type": "code",
   "execution_count": null,
   "metadata": {},
   "outputs": [],
   "source": [
    "df.to_pickle(f\"./gichon_{SECTOR}.pkl\")"
   ]
  }
 ],
 "metadata": {
  "kernelspec": {
   "display_name": "Python 3",
   "language": "python",
   "name": "python3"
  },
  "language_info": {
   "codemirror_mode": {
    "name": "ipython",
    "version": 3
   },
   "file_extension": ".py",
   "mimetype": "text/x-python",
   "name": "python",
   "nbconvert_exporter": "python",
   "pygments_lexer": "ipython3",
   "version": "3.7.6"
  },
  "nbTranslate": {
   "displayLangs": [
    "*"
   ],
   "hotkey": "alt-t",
   "langInMainMenu": true,
   "sourceLang": "en",
   "targetLang": "fr",
   "useGoogleTranslate": true
  },
  "toc": {
   "base_numbering": 1,
   "nav_menu": {},
   "number_sections": true,
   "sideBar": true,
   "skip_h1_title": false,
   "title_cell": "Table of Contents",
   "title_sidebar": "Contents",
   "toc_cell": false,
   "toc_position": {},
   "toc_section_display": true,
   "toc_window_display": false
  }
 },
 "nbformat": 4,
 "nbformat_minor": 4
}
