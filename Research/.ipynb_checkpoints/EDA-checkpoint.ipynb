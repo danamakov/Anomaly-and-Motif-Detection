{
 "cells": [
  {
   "cell_type": "markdown",
   "metadata": {},
   "source": [
    "# EDA"
   ]
  },
  {
   "cell_type": "markdown",
   "metadata": {},
   "source": [
    "**Import Libraries**"
   ]
  },
  {
   "cell_type": "code",
   "execution_count": null,
   "metadata": {},
   "outputs": [],
   "source": [
    "import warnings\n",
    "warnings.filterwarnings('ignore')"
   ]
  },
  {
   "cell_type": "code",
   "execution_count": null,
   "metadata": {},
   "outputs": [],
   "source": [
    "from matplotlib import pyplot as plt\n",
    "import json\n",
    "import pandas as pd\n",
    "import numpy as np\n",
    "import seaborn as sns\n",
    "from statsmodels.tsa.seasonal import seasonal_decompose\n",
    "import stumpy\n",
    "from kando import kando_client"
   ]
  },
  {
   "cell_type": "markdown",
   "metadata": {},
   "source": [
    "**Functions**"
   ]
  },
  {
   "cell_type": "code",
   "execution_count": null,
   "metadata": {},
   "outputs": [],
   "source": [
    "def create_heat_map(data):\n",
    "    \"\"\"\n",
    "    :param data: data set\n",
    "    plot a heatmap of correlation between the features\n",
    "    \"\"\"\n",
    "\n",
    "    plt.figure(figsize=(10, 10))\n",
    "\n",
    "    mask = np.tril(np.ones_like(data.corr(), dtype=np.bool))\n",
    "    ax = sns.heatmap(data.corr(),\n",
    "                     annot=True,\n",
    "                     fmt=\".2f\",\n",
    "                     mask=mask,\n",
    "                     square=True,\n",
    "                     linecolor='white',\n",
    "                     linewidths=1)\n",
    "    if data.shape[1] > 10:\n",
    "        plt.xticks(rotation=55)\n",
    "        plt.yticks(rotation=0)\n",
    "\n",
    "    plt.title('\\nFeatures Correlation', fontsize=18)"
   ]
  },
  {
   "cell_type": "code",
   "execution_count": null,
   "metadata": {},
   "outputs": [],
   "source": [
    "def connect():\n",
    "    \"\"\"\n",
    "    connect to Kando API with json file\n",
    "    :return: client\n",
    "    \"\"\"\n",
    "\n",
    "    with open('../key.json') as f:\n",
    "        api_login = json.load(f)\n",
    "\n",
    "    url = \"https://kando-staging.herokuapp.com\"\n",
    "    client = kando_client.client(url, api_login['key'], api_login['secret'])\n",
    "    return client"
   ]
  },
  {
   "cell_type": "code",
   "execution_count": null,
   "metadata": {},
   "outputs": [],
   "source": [
    "def find_similars(col):\n",
    "    \"\"\"\n",
    "    :param col: chosen column\n",
    "    :return: list of indices of similar value in the matrix profile\n",
    "    \"\"\"\n",
    "\n",
    "    min_indices = np.argwhere(mps[f'mp_{col}'][:,\n",
    "                                               0] == mps[f'mp_{col}'][:,\n",
    "                                                                      0].min())\n",
    "    similars = []\n",
    "    for index in min_indices:\n",
    "        a = np.argwhere(mps[f'mp_{col}'][:, 1] == index)\n",
    "        for i in a:\n",
    "            similars.append(*i)\n",
    "    return similars"
   ]
  },
  {
   "cell_type": "markdown",
   "metadata": {},
   "source": [
    "**Connect to API**"
   ]
  },
  {
   "cell_type": "code",
   "execution_count": null,
   "metadata": {},
   "outputs": [],
   "source": [
    "client = connect()"
   ]
  },
  {
   "cell_type": "markdown",
   "metadata": {},
   "source": [
    "**Load data**"
   ]
  },
  {
   "cell_type": "code",
   "execution_count": null,
   "metadata": {
    "scrolled": true
   },
   "outputs": [],
   "source": [
    "df_Train = client.get_all(point_id=1378, start=2020)"
   ]
  },
  {
   "cell_type": "code",
   "execution_count": null,
   "metadata": {},
   "outputs": [],
   "source": [
    "df_Train"
   ]
  },
  {
   "cell_type": "code",
   "execution_count": null,
   "metadata": {
    "scrolled": true
   },
   "outputs": [],
   "source": [
    "samples = df_Train['samplings']\n",
    "len(samples)"
   ]
  },
  {
   "cell_type": "code",
   "execution_count": null,
   "metadata": {
    "scrolled": true
   },
   "outputs": [],
   "source": [
    "df = pd.DataFrame.from_dict(samples, orient='index')\n",
    "df.drop(['1483506780'], inplace=True)\n",
    "df.drop(['visit', 'Battery', 'Signal'], axis=1)"
   ]
  },
  {
   "cell_type": "code",
   "execution_count": null,
   "metadata": {},
   "outputs": [],
   "source": [
    "df['DateTime'] = df['DateTime'].apply(lambda x: 1000000000*x)\n",
    "df['DateTime'] = pd.to_datetime(df['DateTime'])\n",
    "df = df.set_index('DateTime')"
   ]
  },
  {
   "cell_type": "code",
   "execution_count": null,
   "metadata": {
    "scrolled": true
   },
   "outputs": [],
   "source": [
    "df.head(100)"
   ]
  },
  {
   "cell_type": "code",
   "execution_count": null,
   "metadata": {},
   "outputs": [],
   "source": [
    "df.info()"
   ]
  },
  {
   "cell_type": "code",
   "execution_count": null,
   "metadata": {},
   "outputs": [],
   "source": [
    "data_dic = {\n",
    "    'PI': 'Polution_Index ',\n",
    "    'EC': 'Electrical_Conductivity',\n",
    "    'PH': 'pH',\n",
    "    'WL': 'Water_Level',\n",
    "    'ORP': 'Oxidation_reduction_potential',\n",
    "    'TEMPERATURE': 'Temperature',\n",
    "    'COD': 'Chemical_Oxygen_Demand',\n",
    "    'TSS': 'Total_suspended_solids',\n",
    "    'FLOW': 'Flow',\n",
    "    'Battery': 'Battery_Level',\n",
    "    'Signal': 'Signal',\n",
    "    'MS': 'MS',\n",
    "    'gaps': 'gaps'\n",
    "}"
   ]
  },
  {
   "cell_type": "code",
   "execution_count": null,
   "metadata": {
    "scrolled": true
   },
   "outputs": [],
   "source": [
    "df.describe()"
   ]
  },
  {
   "cell_type": "code",
   "execution_count": null,
   "metadata": {},
   "outputs": [],
   "source": [
    "df.nunique()"
   ]
  },
  {
   "cell_type": "code",
   "execution_count": null,
   "metadata": {},
   "outputs": [],
   "source": [
    "df.isna().sum()"
   ]
  },
  {
   "cell_type": "code",
   "execution_count": null,
   "metadata": {},
   "outputs": [],
   "source": [
    "df.columns"
   ]
  },
  {
   "cell_type": "markdown",
   "metadata": {},
   "source": [
    "**Plot**"
   ]
  },
  {
   "cell_type": "code",
   "execution_count": null,
   "metadata": {},
   "outputs": [],
   "source": [
    "cols_to_plot = ['PI', 'EC', 'PH', 'ORP', 'TEMPERATURE']"
   ]
  },
  {
   "cell_type": "code",
   "execution_count": null,
   "metadata": {},
   "outputs": [],
   "source": [
    "for col_ in cols_to_plot:\n",
    "    plt.figure(figsize=(16, 6))\n",
    "    df[f'{col_}'].plot()\n",
    "    plt.title(data_dic[f'{col_}']+ ' OVER TIME', fontsize=18)\n",
    "    plt.xlabel('Time')\n",
    "    plt.ylabel(str(col_))\n",
    "    plt.show()"
   ]
  },
  {
   "cell_type": "code",
   "execution_count": null,
   "metadata": {
    "scrolled": true
   },
   "outputs": [],
   "source": [
    "create_heat_map(df[cols_to_plot])"
   ]
  },
  {
   "cell_type": "code",
   "execution_count": null,
   "metadata": {},
   "outputs": [],
   "source": [
    "df.index = pd.to_datetime(df.index)"
   ]
  },
  {
   "cell_type": "code",
   "execution_count": null,
   "metadata": {
    "scrolled": true
   },
   "outputs": [],
   "source": [
    "for col_ in cols_to_plot:\n",
    "    try:\n",
    "        decomposed = seasonal_decompose(df[f'{col_}'], period = 15)\n",
    "        plt.figure(figsize=(16, 6))\n",
    "        decomposed.trend.plot()\n",
    "        decomposed.resid.plot()\n",
    "        decomposed.seasonal.plot()\n",
    "        plt.legend()\n",
    "        plt.title(str(col_)+ ' OVER TIME', fontsize=18)\n",
    "        plt.xlabel('Time')\n",
    "        plt.ylabel(str(col_))\n",
    "        plt.show()\n",
    "    except:\n",
    "        print('too much nan values in', col_)"
   ]
  },
  {
   "cell_type": "code",
   "execution_count": null,
   "metadata": {},
   "outputs": [],
   "source": [
    "BH_data = pd.read_csv('sorek.csv', index_col=0)"
   ]
  },
  {
   "cell_type": "code",
   "execution_count": null,
   "metadata": {
    "scrolled": true
   },
   "outputs": [],
   "source": [
    "BH_data.head()"
   ]
  },
  {
   "cell_type": "code",
   "execution_count": null,
   "metadata": {},
   "outputs": [],
   "source": [
    "BH_data.info()"
   ]
  },
  {
   "cell_type": "code",
   "execution_count": null,
   "metadata": {},
   "outputs": [],
   "source": [
    "BH_data.nunique()"
   ]
  },
  {
   "cell_type": "code",
   "execution_count": null,
   "metadata": {},
   "outputs": [],
   "source": [
    "for col in BH_data.columns:\n",
    "    print(BH_data[f'{col}'].dtype)"
   ]
  },
  {
   "cell_type": "code",
   "execution_count": null,
   "metadata": {},
   "outputs": [],
   "source": [
    "cols_to_plot = [\n",
    "    col for col in BH_data.columns\n",
    "    if (BH_data[f'{col}'].dtype == 'float64') and (\n",
    "        BH_data[f'{col}'].nunique() > 1)\n",
    "]"
   ]
  },
  {
   "cell_type": "code",
   "execution_count": null,
   "metadata": {},
   "outputs": [],
   "source": [
    "cols_to_plot"
   ]
  },
  {
   "cell_type": "code",
   "execution_count": null,
   "metadata": {},
   "outputs": [],
   "source": [
    "for col_ in cols_to_plot:\n",
    "    plt.figure(figsize=(16, 6))\n",
    "    BH_data[f'{col_}'].plot()\n",
    "    plt.title(data_dic[f'{col_}']+ ' OVER TIME', fontsize=18)\n",
    "    plt.xlabel('Time')\n",
    "    plt.ylabel(str(col_))\n",
    "    plt.show()"
   ]
  },
  {
   "cell_type": "code",
   "execution_count": null,
   "metadata": {
    "scrolled": true
   },
   "outputs": [],
   "source": [
    "create_heat_map(BH_data[cols_to_plot])"
   ]
  },
  {
   "cell_type": "code",
   "execution_count": null,
   "metadata": {},
   "outputs": [],
   "source": [
    "for col_ in cols_to_plot:\n",
    "    try:\n",
    "        decomposed = seasonal_decompose(BH_data[f'{col_}'], period = 15)\n",
    "        plt.figure(figsize=(16, 6))\n",
    "        decomposed.trend.plot()\n",
    "        decomposed.resid.plot()\n",
    "        decomposed.seasonal.plot()\n",
    "        plt.legend()\n",
    "        plt.title(str(col_)+ ' OVER TIME', fontsize=18)\n",
    "        plt.xlabel('Time')\n",
    "        plt.ylabel(str(col_))\n",
    "        plt.show()\n",
    "    except:\n",
    "        print('too much nan values in', col_)"
   ]
  },
  {
   "cell_type": "code",
   "execution_count": null,
   "metadata": {},
   "outputs": [],
   "source": [
    "BH_data[f'PI'].sample(20)"
   ]
  },
  {
   "cell_type": "code",
   "execution_count": null,
   "metadata": {},
   "outputs": [],
   "source": [
    "motif_detection_columns = ['PI', 'EC', 'PH', 'ORP', 'TEMPERATURE']"
   ]
  },
  {
   "cell_type": "code",
   "execution_count": null,
   "metadata": {},
   "outputs": [],
   "source": [
    "BH_data[motif_detection_columns]"
   ]
  },
  {
   "cell_type": "code",
   "execution_count": null,
   "metadata": {},
   "outputs": [],
   "source": [
    "m = 96\n",
    "mps = {}\n",
    "for col_ in motif_detection_columns:\n",
    "    mps[f'mp_{col_}'] = stumpy.stump(BH_data[f'{col_}'], m=m)"
   ]
  },
  {
   "cell_type": "code",
   "execution_count": null,
   "metadata": {},
   "outputs": [],
   "source": [
    "for col_ in motif_detection_columns:\n",
    "    plt.figure(figsize=(15, 5))\n",
    "    BH_data[f'{col_}'].plot()\n",
    "    plt.title(data_dic[f'{col_}']+ ' OVER TIME', fontsize=20)\n",
    "    plt.xlabel('Time')\n",
    "    plt.ylabel(f'{col_} level', fontsize='20')   \n",
    "    plt.show()\n",
    "    plt.figure(figsize=(15, 5))\n",
    "    plt.plot(mps[f'mp_{col_}'][:, 0], C='g')\n",
    "    plt.title(data_dic[f'{col_}']+ ' 1 day window matrix profile', fontsize=20)\n",
    "    plt.xlabel('index')\n",
    "    plt.ylabel(f'Distance to \\n nearest neighbor', fontsize='18')   \n",
    "    plt.show()\n",
    "    print('\\n\\n\\n')\n"
   ]
  },
  {
   "cell_type": "code",
   "execution_count": null,
   "metadata": {},
   "outputs": [],
   "source": [
    "for col_ in motif_detection_columns:\n",
    "    plt.figure(figsize=(15, 5))\n",
    "    matrix_profile = mps[f'mp_{col_}'][:, 0]\n",
    "\n",
    "    plt.title(\n",
    "        data_dic[f'{col_}'] +\n",
    "        f' most similar 1 day motif \\n distance between neighbors {round(matrix_profile.min(),2)}',\n",
    "        fontsize=20)\n",
    "    min_index = np.argwhere(\n",
    "        matrix_profile == matrix_profile.min()).flatten()[0]\n",
    "    similar_index = np.argwhere(\n",
    "        matrix_profile == matrix_profile.min()).flatten()[1]\n",
    "    motif_1 = BH_data[f'{col_}'][min_index:min_index + m]\n",
    "    motif_1.plot(label=f'[{min_index}:{min_index+m}]')\n",
    "    motif_2 = BH_data[f'{col_}'][similar_index:similar_index + m]\n",
    "    motif_2.plot(label=f'[{similar_index}:{similar_index+m}]')\n",
    "    plt.legend()\n",
    "    plt.show()"
   ]
  },
  {
   "cell_type": "code",
   "execution_count": null,
   "metadata": {},
   "outputs": [],
   "source": [
    "for col_ in motif_detection_columns:\n",
    "    plt.figure(figsize=(15, 5))\n",
    "    plt.title(\n",
    "        data_dic[f'{col_}'] +\n",
    "        f' most similar 1 day motif \\n distance between neighbors {round(matrix_profile.min(),2)}',\n",
    "        fontsize=20)\n",
    "    matrix_profile = mps[f'mp_{col_}'][:, 0]\n",
    "    similars = find_similars(col_)\n",
    "    for similar in similars:\n",
    "        motif = BH_data[f'{col_}'][similar:similar + m]\n",
    "        motif.plot(label=f'[{similar}:{similar+m}]')\n",
    "    plt.legend()\n",
    "    plt.show()"
   ]
  },
  {
   "cell_type": "code",
   "execution_count": null,
   "metadata": {},
   "outputs": [],
   "source": [
    "motif_detection_columns"
   ]
  },
  {
   "cell_type": "code",
   "execution_count": null,
   "metadata": {},
   "outputs": [],
   "source": [
    "BH_data[['EC', 'PH']]"
   ]
  },
  {
   "cell_type": "code",
   "execution_count": null,
   "metadata": {},
   "outputs": [],
   "source": [
    "multi_dimensional = stumpy.mstump(BH_data[['EC', 'PH', 'ORP', 'TEMPERATURE']], 96)"
   ]
  },
  {
   "cell_type": "code",
   "execution_count": null,
   "metadata": {},
   "outputs": [],
   "source": [
    "multi_dimensional[0].shape"
   ]
  },
  {
   "cell_type": "code",
   "execution_count": null,
   "metadata": {},
   "outputs": [],
   "source": [
    "plt.figure(figsize=(15, 5))\n",
    "plt.plot(multi_dimensional[0][:,0])"
   ]
  },
  {
   "cell_type": "code",
   "execution_count": null,
   "metadata": {},
   "outputs": [],
   "source": [
    "maxi = np.argwhere(multi_dimensional[0][:,0] == multi_dimensional[0][:,0].min())\n",
    "maxi[0][0]"
   ]
  },
  {
   "cell_type": "code",
   "execution_count": null,
   "metadata": {
    "scrolled": true
   },
   "outputs": [],
   "source": [
    "for col in ['PI', 'EC', 'PH', 'ORP', 'TEMPERATURE']:\n",
    "    plt.figure(figsize=(15, 5))\n",
    "    plt.plot(BH_data[[f'{col}']][maxi[0][0]-2*m:maxi[0][0]+2*m], label=f'{col}')\n",
    "    plt.xticks([])\n",
    "    plt.legend()\n",
    "    plt.show()"
   ]
  },
  {
   "cell_type": "code",
   "execution_count": null,
   "metadata": {},
   "outputs": [],
   "source": [
    "plt.figure(figsize=(15, 5))\n",
    "plt.title( 'max', fontsize=20)\n",
    "matrix_profile = mps[f'mp_{col_}'][:, 0]\n",
    "similars = find_similars(col_)\n",
    "for similar in similars:\n",
    "    motif = BH_data[f'{col_}'][similar:similar + m]\n",
    "    motif.plot(label=f'[{similar}:{similar+m}]')\n",
    "plt.legend()\n",
    "plt.show()"
   ]
  }
 ],
 "metadata": {
  "kernelspec": {
   "display_name": "Python 3",
   "language": "python",
   "name": "python3"
  },
  "language_info": {
   "codemirror_mode": {
    "name": "ipython",
    "version": 3
   },
   "file_extension": ".py",
   "mimetype": "text/x-python",
   "name": "python",
   "nbconvert_exporter": "python",
   "pygments_lexer": "ipython3",
   "version": "3.7.6"
  },
  "nbTranslate": {
   "displayLangs": [
    "*"
   ],
   "hotkey": "alt-t",
   "langInMainMenu": true,
   "sourceLang": "en",
   "targetLang": "fr",
   "useGoogleTranslate": true
  },
  "toc": {
   "base_numbering": 1,
   "nav_menu": {},
   "number_sections": true,
   "sideBar": true,
   "skip_h1_title": false,
   "title_cell": "Table of Contents",
   "title_sidebar": "Contents",
   "toc_cell": false,
   "toc_position": {},
   "toc_section_display": true,
   "toc_window_display": false
  }
 },
 "nbformat": 4,
 "nbformat_minor": 4
}
