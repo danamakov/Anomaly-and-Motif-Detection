{
 "cells": [
  {
   "cell_type": "markdown",
   "metadata": {},
   "source": [
    "# Save points and matrix profile\n",
    "\n",
    "This file calculates and saves the data as pickle file, for every point belongs to a chosen water authority."
   ]
  },
  {
   "cell_type": "markdown",
   "metadata": {},
   "source": [
    "**Import Libraries**"
   ]
  },
  {
   "cell_type": "code",
   "execution_count": 1,
   "metadata": {},
   "outputs": [],
   "source": [
    "import pandas as pd\n",
    "import numpy as np\n",
    "from kando import kando_client\n",
    "from tqdm import tqdm\n",
    "import pickle\n",
    "import os.path\n",
    "from os import path\n",
    "import datetime\n",
    "%run utils.ipynb"
   ]
  },
  {
   "cell_type": "markdown",
   "metadata": {},
   "source": [
    "**Global Variables**"
   ]
  },
  {
   "cell_type": "code",
   "execution_count": 2,
   "metadata": {},
   "outputs": [],
   "source": [
    "RESAMPLE = '5min'\n",
    "WINDOW = 24\n",
    "WATER_AUTHORITY_NUM = '24'\n",
    "START = datetime.datetime(2020, 1, 1, 0, 0).timestamp()"
   ]
  },
  {
   "cell_type": "code",
   "execution_count": 5,
   "metadata": {},
   "outputs": [],
   "source": [
    "def create_df_from_dict(site_dic):\n",
    "    \"\"\"\n",
    "    :param df: dictionary with raw data from kando's API\n",
    "    :return: raw data in pandas dataframe with 'EC', 'PH', 'ORP', 'TEMPERATURE' columns,\n",
    "             date is the index\n",
    "    \"\"\"\n",
    "        \n",
    "    df = pd.DataFrame.from_dict(site_dic['samplings'], orient='index')\n",
    "    df['Date'] = df['DateTime'].copy()\n",
    "    df['DateTime'] = pd.to_datetime(df['DateTime'], unit='s')\n",
    "    df = df.set_index('DateTime')\n",
    "    df = df[['Date', 'EC', 'PH', 'ORP', 'TEMPERATURE']]\n",
    "    return(df)"
   ]
  },
  {
   "cell_type": "code",
   "execution_count": 4,
   "metadata": {},
   "outputs": [],
   "source": [
    "def replace_outliers_with_medean(df,\n",
    "                                 ecmin=100,\n",
    "                                 ecmax=110000,\n",
    "                                 phmin=0,\n",
    "                                 phmax=14,\n",
    "                                 orpmin=-400,\n",
    "                                 orpmax=400,\n",
    "                                 tempmin=5,\n",
    "                                 tempmax=100):\n",
    "    \"\"\"\n",
    "    :param df: raw data in pandas dataframe\n",
    "    :param ecmin: min value for EC, less than that will considered an outlier\n",
    "    :param ecmax: max value for EC, more than that will considered an outlier\n",
    "    :param phmin: min value for PH, less than that will considered an outlier\n",
    "    :param phmax: max value for PH, more than that will considered an outlier\n",
    "    :param orpmin: min value for ORP, less than that will considered an outlier\n",
    "    :param orpmax: max value for ORP, more than that will considered an outlier\n",
    "    :param tempmin: min value for TEMPERATURE, less than that will considered an outlier\n",
    "    :param tempmax: max value for TEMPERATURE, more than that will considered an outlier\n",
    "\n",
    "    :return: data frame with all nulls and outliers imputed with median\n",
    "    \"\"\"\n",
    "    \n",
    "    safs = {\n",
    "        'EC': (ecmin, ecmax),\n",
    "        'PH': (phmin, phmax),\n",
    "        'ORP': (orpmin, orpmax),\n",
    "        'TEMPERATURE': (tempmin, tempmax)\n",
    "    }\n",
    "    for col in ['EC', 'PH', 'ORP', 'TEMPERATURE']:\n",
    "        safs_range = (df[col] > safs[col][0]) & (df[col] < safs[col][1])\n",
    "        outliers_range = ~safs_range\n",
    "        median = df.loc[safs_range, col].median()\n",
    "        df.loc[outliers_range, col] = np.nan\n",
    "        df.fillna(median, inplace=True)\n",
    "    return(df)"
   ]
  },
  {
   "cell_type": "code",
   "execution_count": 6,
   "metadata": {},
   "outputs": [],
   "source": [
    "def filter_year(df, year):\n",
    "     \"\"\"\n",
    "    :param df: data frame with sensorial data and datetime index\n",
    "    :param year: requested year\n",
    "    :return: same data frame filtered to the requested year\n",
    "    \"\"\"\n",
    "        \n",
    "    df['Date'] = pd.to_datetime(df['Date'], unit='s')\n",
    "    df['year'] = df['Date'].apply(lambda x: x.year)\n",
    "    df = df.drop(['Date'], axis=1)\n",
    "    df = df[df.year==year]\n",
    "    return(df)"
   ]
  },
  {
   "cell_type": "code",
   "execution_count": 7,
   "metadata": {},
   "outputs": [],
   "source": [
    "def save_df(df, point_id):\n",
    "     \"\"\"\n",
    "    :param df: data frame desired to be saved as a file\n",
    "    :param point_id: id number of the point that the data belongs to\n",
    "    :return: save the data frame as a pickle file\n",
    "    \"\"\"\n",
    "        \n",
    "    b_file = open(f\"{point_id}_data.pkl\", \"wb\")\n",
    "    pickle.dump(df, b_file)\n",
    "    b_file.close()"
   ]
  },
  {
   "cell_type": "code",
   "execution_count": 8,
   "metadata": {},
   "outputs": [],
   "source": [
    "def save_matrix_profile_dictionary(mps, point_id):\n",
    "     \"\"\"\n",
    "    :param df: data frame desired to be saved as a file\n",
    "    :param point_id: id number of the point that the data belongs to\n",
    "    :return: save the natrix profile calculated dictionary as a pickle file\n",
    "    \"\"\"\n",
    "        \n",
    "    a_file = open(f\"{point_id}_mps.pkl\", \"wb\")\n",
    "    pickle.dump(mps, a_file)\n",
    "    a_file.close()"
   ]
  },
  {
   "cell_type": "code",
   "execution_count": 3,
   "metadata": {},
   "outputs": [],
   "source": [
    "with open('key.json') as f:\n",
    "    api_login = json.load(f)\n",
    "\n",
    "url = \"https://kando-staging.herokuapp.com\"\n",
    "client = kando_client.client(url, api_login['key'], api_login['secret'])"
   ]
  },
  {
   "cell_type": "code",
   "execution_count": 9,
   "metadata": {},
   "outputs": [],
   "source": [
    "with open('water_authority.json') as f:\n",
    "    active_by_aouthority = json.load(f)"
   ]
  },
  {
   "cell_type": "code",
   "execution_count": 10,
   "metadata": {},
   "outputs": [],
   "source": [
    "aouthority = active_by_aouthority[WATER_AUTHORITY_NUM]['nodes']"
   ]
  },
  {
   "cell_type": "code",
   "execution_count": 11,
   "metadata": {},
   "outputs": [
    {
     "data": {
      "application/vnd.jupyter.widget-view+json": {
       "model_id": "7737e4846e4549418b8053b7340b92d2",
       "version_major": 2,
       "version_minor": 0
      },
      "text/plain": [
       "HBox(children=(FloatProgress(value=0.0, max=67.0), HTML(value='')))"
      ]
     },
     "metadata": {},
     "output_type": "display_data"
    },
    {
     "name": "stdout",
     "output_type": "stream",
     "text": [
      "Kando - GET /api/data/fetch?point_id=882&unit_id=&start=1577829600.0&end=&raw_data=\n",
      "Kando - GET /api/data/fetch?point_id=882&unit_id=&start=1593928800&end=&raw_data=\n",
      "failed to create 882 mps\n",
      "Kando - GET /api/data/fetch?point_id=883&unit_id=&start=1577829600.0&end=&raw_data=\n",
      "Kando - GET /api/data/fetch?point_id=883&unit_id=&start=1593928800&end=&raw_data=\n"
     ]
    },
    {
     "data": {
      "application/vnd.jupyter.widget-view+json": {
       "model_id": "9c4662331c244198a12ae4e8904ee400",
       "version_major": 2,
       "version_minor": 0
      },
      "text/plain": [
       "HBox(children=(FloatProgress(value=0.0, max=4.0), HTML(value='')))"
      ]
     },
     "metadata": {},
     "output_type": "display_data"
    },
    {
     "name": "stdout",
     "output_type": "stream",
     "text": [
      "\n",
      "883 mps was successfully saved\n",
      "Kando - GET /api/data/fetch?point_id=888&unit_id=&start=1577829600.0&end=&raw_data=\n",
      "Kando - GET /api/data/fetch?point_id=888&unit_id=&start=1585839600&end=&raw_data=\n",
      "Kando - GET /api/data/fetch?point_id=888&unit_id=&start=1593918000&end=&raw_data=\n"
     ]
    },
    {
     "data": {
      "application/vnd.jupyter.widget-view+json": {
       "model_id": "1f8be3e984a94bf3b83be0fc8a505660",
       "version_major": 2,
       "version_minor": 0
      },
      "text/plain": [
       "HBox(children=(FloatProgress(value=0.0, max=4.0), HTML(value='')))"
      ]
     },
     "metadata": {},
     "output_type": "display_data"
    },
    {
     "name": "stdout",
     "output_type": "stream",
     "text": [
      "\n",
      "888 mps was successfully saved\n",
      "Kando - GET /api/data/fetch?point_id=891&unit_id=&start=1577829600.0&end=&raw_data=\n",
      "Kando - GET /api/data/fetch?point_id=891&unit_id=&start=1585219800&end=&raw_data=\n",
      "Kando - GET /api/data/fetch?point_id=891&unit_id=&start=1593918000&end=&raw_data=\n"
     ]
    },
    {
     "data": {
      "application/vnd.jupyter.widget-view+json": {
       "model_id": "135a2097b9cf4708bda6edb57b30c129",
       "version_major": 2,
       "version_minor": 0
      },
      "text/plain": [
       "HBox(children=(FloatProgress(value=0.0, max=4.0), HTML(value='')))"
      ]
     },
     "metadata": {},
     "output_type": "display_data"
    },
    {
     "name": "stdout",
     "output_type": "stream",
     "text": [
      "\n",
      "891 mps was successfully saved\n",
      "Kando - GET /api/data/fetch?point_id=896&unit_id=&start=1577829600.0&end=&raw_data=\n",
      "Kando - GET /api/data/fetch?point_id=896&unit_id=&start=1585316700&end=&raw_data=\n",
      "Kando - GET /api/data/fetch?point_id=896&unit_id=&start=1592809500&end=&raw_data=\n",
      "Kando - GET /api/data/fetch?point_id=896&unit_id=&start=1593918000&end=&raw_data=\n"
     ]
    },
    {
     "data": {
      "application/vnd.jupyter.widget-view+json": {
       "model_id": "80a3c847007c43d898141266d8896750",
       "version_major": 2,
       "version_minor": 0
      },
      "text/plain": [
       "HBox(children=(FloatProgress(value=0.0, max=4.0), HTML(value='')))"
      ]
     },
     "metadata": {},
     "output_type": "display_data"
    },
    {
     "name": "stdout",
     "output_type": "stream",
     "text": [
      "\n",
      "896 mps was successfully saved\n",
      "Kando - GET /api/data/fetch?point_id=903&unit_id=&start=1577829600.0&end=&raw_data=\n",
      "Kando - GET /api/data/fetch?point_id=903&unit_id=&start=1585313700&end=&raw_data=\n",
      "Kando - GET /api/data/fetch?point_id=903&unit_id=&start=1592793300&end=&raw_data=\n",
      "Kando - GET /api/data/fetch?point_id=903&unit_id=&start=1593918000&end=&raw_data=\n"
     ]
    },
    {
     "data": {
      "application/vnd.jupyter.widget-view+json": {
       "model_id": "591f2bd6f82c4b00a53c7447b00727a6",
       "version_major": 2,
       "version_minor": 0
      },
      "text/plain": [
       "HBox(children=(FloatProgress(value=0.0, max=4.0), HTML(value='')))"
      ]
     },
     "metadata": {},
     "output_type": "display_data"
    },
    {
     "name": "stdout",
     "output_type": "stream",
     "text": [
      "\n",
      "903 mps was successfully saved\n",
      "Kando - GET /api/data/fetch?point_id=907&unit_id=&start=1577829600.0&end=&raw_data=\n",
      "Kando - GET /api/data/fetch?point_id=907&unit_id=&start=1592122500&end=&raw_data=\n",
      "Kando - GET /api/data/fetch?point_id=907&unit_id=&start=1593918000&end=&raw_data=\n"
     ]
    },
    {
     "data": {
      "application/vnd.jupyter.widget-view+json": {
       "model_id": "99002b2009fb4426b50e390a486440fe",
       "version_major": 2,
       "version_minor": 0
      },
      "text/plain": [
       "HBox(children=(FloatProgress(value=0.0, max=4.0), HTML(value='')))"
      ]
     },
     "metadata": {},
     "output_type": "display_data"
    },
    {
     "name": "stdout",
     "output_type": "stream",
     "text": [
      "\n",
      "907 mps was successfully saved\n",
      "Kando - GET /api/data/fetch?point_id=909&unit_id=&start=1577829600.0&end=&raw_data=\n",
      "Kando - GET /api/data/fetch?point_id=909&unit_id=&start=1585281000&end=&raw_data=\n",
      "Kando - GET /api/data/fetch?point_id=909&unit_id=&start=1593918000&end=&raw_data=\n"
     ]
    },
    {
     "data": {
      "application/vnd.jupyter.widget-view+json": {
       "model_id": "c5ec8efdceb941adb551a10a6a1c35db",
       "version_major": 2,
       "version_minor": 0
      },
      "text/plain": [
       "HBox(children=(FloatProgress(value=0.0, max=4.0), HTML(value='')))"
      ]
     },
     "metadata": {},
     "output_type": "display_data"
    },
    {
     "name": "stdout",
     "output_type": "stream",
     "text": [
      "\n",
      "909 mps was successfully saved\n",
      "911 files already exist in working directory\n",
      "Kando - GET /api/data/fetch?point_id=916&unit_id=&start=1577829600.0&end=&raw_data=\n",
      "Kando - GET /api/data/fetch?point_id=916&unit_id=&start=1585243500&end=&raw_data=\n",
      "Kando - GET /api/data/fetch?point_id=916&unit_id=&start=1592773800&end=&raw_data=\n",
      "Kando - GET /api/data/fetch?point_id=916&unit_id=&start=1593922500&end=&raw_data=\n"
     ]
    },
    {
     "data": {
      "application/vnd.jupyter.widget-view+json": {
       "model_id": "be01a928d7b14cb5aefb313dc56ab86c",
       "version_major": 2,
       "version_minor": 0
      },
      "text/plain": [
       "HBox(children=(FloatProgress(value=0.0, max=4.0), HTML(value='')))"
      ]
     },
     "metadata": {},
     "output_type": "display_data"
    },
    {
     "name": "stdout",
     "output_type": "stream",
     "text": [
      "\n",
      "916 mps was successfully saved\n",
      "Kando - GET /api/data/fetch?point_id=919&unit_id=&start=1577829600.0&end=&raw_data=\n",
      "Kando - GET /api/data/fetch?point_id=919&unit_id=&start=1585951200&end=&raw_data=\n",
      "Kando - GET /api/data/fetch?point_id=919&unit_id=&start=1593918000&end=&raw_data=\n"
     ]
    },
    {
     "data": {
      "application/vnd.jupyter.widget-view+json": {
       "model_id": "1aa6de2622e94a7f85b75e460a4556ac",
       "version_major": 2,
       "version_minor": 0
      },
      "text/plain": [
       "HBox(children=(FloatProgress(value=0.0, max=4.0), HTML(value='')))"
      ]
     },
     "metadata": {},
     "output_type": "display_data"
    },
    {
     "name": "stdout",
     "output_type": "stream",
     "text": [
      "\n",
      "919 mps was successfully saved\n",
      "Kando - GET /api/data/fetch?point_id=925&unit_id=&start=1577829600.0&end=&raw_data=\n",
      "Kando - GET /api/data/fetch?point_id=925&unit_id=&start=1585137000&end=&raw_data=\n",
      "Kando - GET /api/data/fetch?point_id=925&unit_id=&start=1593921840&end=&raw_data=\n"
     ]
    },
    {
     "data": {
      "application/vnd.jupyter.widget-view+json": {
       "model_id": "8c2913a80a5c4653bd8710b8870727e1",
       "version_major": 2,
       "version_minor": 0
      },
      "text/plain": [
       "HBox(children=(FloatProgress(value=0.0, max=4.0), HTML(value='')))"
      ]
     },
     "metadata": {},
     "output_type": "display_data"
    },
    {
     "name": "stdout",
     "output_type": "stream",
     "text": [
      "\n",
      "925 mps was successfully saved\n",
      "Kando - GET /api/data/fetch?point_id=927&unit_id=&start=1577829600.0&end=&raw_data=\n",
      "Kando - GET /api/data/fetch?point_id=927&unit_id=&start=1589133600&end=&raw_data=\n",
      "Kando - GET /api/data/fetch?point_id=927&unit_id=&start=1593918000&end=&raw_data=\n"
     ]
    },
    {
     "data": {
      "application/vnd.jupyter.widget-view+json": {
       "model_id": "692f598dc3f0416f950f3fe2330789e4",
       "version_major": 2,
       "version_minor": 0
      },
      "text/plain": [
       "HBox(children=(FloatProgress(value=0.0, max=4.0), HTML(value='')))"
      ]
     },
     "metadata": {},
     "output_type": "display_data"
    },
    {
     "name": "stdout",
     "output_type": "stream",
     "text": [
      "\n",
      "927 mps was successfully saved\n",
      "Kando - GET /api/data/fetch?point_id=931&unit_id=&start=1577829600.0&end=&raw_data=\n",
      "Kando - GET /api/data/fetch?point_id=931&unit_id=&start=1587532560&end=&raw_data=\n",
      "Kando - GET /api/data/fetch?point_id=931&unit_id=&start=1593920700&end=&raw_data=\n"
     ]
    },
    {
     "data": {
      "application/vnd.jupyter.widget-view+json": {
       "model_id": "b83aaa00b7c241f584dc099cd3dac304",
       "version_major": 2,
       "version_minor": 0
      },
      "text/plain": [
       "HBox(children=(FloatProgress(value=0.0, max=4.0), HTML(value='')))"
      ]
     },
     "metadata": {},
     "output_type": "display_data"
    },
    {
     "name": "stdout",
     "output_type": "stream",
     "text": [
      "\n",
      "931 mps was successfully saved\n",
      "Kando - GET /api/data/fetch?point_id=955&unit_id=&start=1577829600.0&end=&raw_data=\n",
      "Kando - GET /api/data/fetch?point_id=955&unit_id=&start=1585363500&end=&raw_data=\n",
      "Kando - GET /api/data/fetch?point_id=955&unit_id=&start=1585549560&end=&raw_data=\n"
     ]
    },
    {
     "data": {
      "application/vnd.jupyter.widget-view+json": {
       "model_id": "412f1421f4574e60901bf026c34d529c",
       "version_major": 2,
       "version_minor": 0
      },
      "text/plain": [
       "HBox(children=(FloatProgress(value=0.0, max=4.0), HTML(value='')))"
      ]
     },
     "metadata": {},
     "output_type": "display_data"
    },
    {
     "name": "stdout",
     "output_type": "stream",
     "text": [
      "\n",
      "955 mps was successfully saved\n",
      "Kando - GET /api/data/fetch?point_id=956&unit_id=&start=1577829600.0&end=&raw_data=\n",
      "Kando - GET /api/data/fetch?point_id=956&unit_id=&start=1585323420&end=&raw_data=\n",
      "Kando - GET /api/data/fetch?point_id=956&unit_id=&start=1592868900&end=&raw_data=\n",
      "Kando - GET /api/data/fetch?point_id=956&unit_id=&start=1593918000&end=&raw_data=\n"
     ]
    },
    {
     "data": {
      "application/vnd.jupyter.widget-view+json": {
       "model_id": "bd0117b058d741ddb8f16fd0da11d6d3",
       "version_major": 2,
       "version_minor": 0
      },
      "text/plain": [
       "HBox(children=(FloatProgress(value=0.0, max=4.0), HTML(value='')))"
      ]
     },
     "metadata": {},
     "output_type": "display_data"
    },
    {
     "name": "stdout",
     "output_type": "stream",
     "text": [
      "\n",
      "956 mps was successfully saved\n",
      "Kando - GET /api/data/fetch?point_id=969&unit_id=&start=1577829600.0&end=&raw_data=\n",
      "Kando - GET /api/data/fetch?point_id=969&unit_id=&start=1585211700&end=&raw_data=\n",
      "Kando - GET /api/data/fetch?point_id=969&unit_id=&start=1592899500&end=&raw_data=\n",
      "Kando - GET /api/data/fetch?point_id=969&unit_id=&start=1604571060&end=&raw_data=\n"
     ]
    },
    {
     "data": {
      "application/vnd.jupyter.widget-view+json": {
       "model_id": "5ecae1b21288406cb6bcc48226510911",
       "version_major": 2,
       "version_minor": 0
      },
      "text/plain": [
       "HBox(children=(FloatProgress(value=0.0, max=4.0), HTML(value='')))"
      ]
     },
     "metadata": {},
     "output_type": "display_data"
    },
    {
     "name": "stdout",
     "output_type": "stream",
     "text": [
      "\n",
      "969 mps was successfully saved\n",
      "Kando - GET /api/data/fetch?point_id=976&unit_id=&start=1577829600.0&end=&raw_data=\n",
      "Kando - GET /api/data/fetch?point_id=976&unit_id=&start=1585316700&end=&raw_data=\n",
      "Kando - GET /api/data/fetch?point_id=976&unit_id=&start=1593918000&end=&raw_data=\n"
     ]
    },
    {
     "data": {
      "application/vnd.jupyter.widget-view+json": {
       "model_id": "8eaa7b518a92456b87138e326a995670",
       "version_major": 2,
       "version_minor": 0
      },
      "text/plain": [
       "HBox(children=(FloatProgress(value=0.0, max=4.0), HTML(value='')))"
      ]
     },
     "metadata": {},
     "output_type": "display_data"
    },
    {
     "name": "stdout",
     "output_type": "stream",
     "text": [
      "\n",
      "976 mps was successfully saved\n",
      "Kando - GET /api/data/fetch?point_id=985&unit_id=&start=1577829600.0&end=&raw_data=\n",
      "Kando - GET /api/data/fetch?point_id=985&unit_id=&start=1593928320&end=&raw_data=\n",
      "failed to create 985 mps\n",
      "Kando - GET /api/data/fetch?point_id=995&unit_id=&start=1577829600.0&end=&raw_data=\n",
      "Kando - GET /api/data/fetch?point_id=995&unit_id=&start=1593918000&end=&raw_data=\n"
     ]
    },
    {
     "data": {
      "application/vnd.jupyter.widget-view+json": {
       "model_id": "d966bda86fdb4b39b0c9b57cde026dc0",
       "version_major": 2,
       "version_minor": 0
      },
      "text/plain": [
       "HBox(children=(FloatProgress(value=0.0, max=4.0), HTML(value='')))"
      ]
     },
     "metadata": {},
     "output_type": "display_data"
    },
    {
     "name": "stdout",
     "output_type": "stream",
     "text": [
      "\n",
      "995 mps was successfully saved\n",
      "Kando - GET /api/data/fetch?point_id=997&unit_id=&start=1577829600.0&end=&raw_data=\n",
      "Kando - GET /api/data/fetch?point_id=997&unit_id=&start=1585250460&end=&raw_data=\n",
      "Kando - GET /api/data/fetch?point_id=997&unit_id=&start=1593928800&end=&raw_data=\n"
     ]
    },
    {
     "data": {
      "application/vnd.jupyter.widget-view+json": {
       "model_id": "f7776f48507247919d61445110e93419",
       "version_major": 2,
       "version_minor": 0
      },
      "text/plain": [
       "HBox(children=(FloatProgress(value=0.0, max=4.0), HTML(value='')))"
      ]
     },
     "metadata": {},
     "output_type": "display_data"
    },
    {
     "name": "stdout",
     "output_type": "stream",
     "text": [
      "\n",
      "997 mps was successfully saved\n",
      "Kando - GET /api/data/fetch?point_id=1012&unit_id=&start=1577829600.0&end=&raw_data=\n",
      "Kando - GET /api/data/fetch?point_id=1012&unit_id=&start=1593590400&end=&raw_data=\n"
     ]
    },
    {
     "data": {
      "application/vnd.jupyter.widget-view+json": {
       "model_id": "e49c81e374ff490eb683053ff393d738",
       "version_major": 2,
       "version_minor": 0
      },
      "text/plain": [
       "HBox(children=(FloatProgress(value=0.0, max=4.0), HTML(value='')))"
      ]
     },
     "metadata": {},
     "output_type": "display_data"
    },
    {
     "name": "stdout",
     "output_type": "stream",
     "text": [
      "\n",
      "1012 mps was successfully saved\n",
      "1013 files already exist in working directory\n",
      "Kando - GET /api/data/fetch?point_id=1023&unit_id=&start=1577829600.0&end=&raw_data=\n",
      "Kando - GET /api/data/fetch?point_id=1023&unit_id=&start=1585299600&end=&raw_data=\n",
      "Kando - GET /api/data/fetch?point_id=1023&unit_id=&start=1592768700&end=&raw_data=\n",
      "Kando - GET /api/data/fetch?point_id=1023&unit_id=&start=1593918000&end=&raw_data=\n"
     ]
    },
    {
     "data": {
      "application/vnd.jupyter.widget-view+json": {
       "model_id": "50ab2b8e26b34d1fa26b0e324818ec9e",
       "version_major": 2,
       "version_minor": 0
      },
      "text/plain": [
       "HBox(children=(FloatProgress(value=0.0, max=4.0), HTML(value='')))"
      ]
     },
     "metadata": {},
     "output_type": "display_data"
    },
    {
     "name": "stdout",
     "output_type": "stream",
     "text": [
      "\n",
      "1023 mps was successfully saved\n",
      "Kando - GET /api/data/fetch?point_id=1033&unit_id=&start=1577829600.0&end=&raw_data=\n",
      "Kando - GET /api/data/fetch?point_id=1033&unit_id=&start=1585316100&end=&raw_data=\n",
      "Kando - GET /api/data/fetch?point_id=1033&unit_id=&start=1592823300&end=&raw_data=\n",
      "Kando - GET /api/data/fetch?point_id=1033&unit_id=&start=1593918000&end=&raw_data=\n"
     ]
    },
    {
     "data": {
      "application/vnd.jupyter.widget-view+json": {
       "model_id": "b8f727249c0e4316834451a0615726dd",
       "version_major": 2,
       "version_minor": 0
      },
      "text/plain": [
       "HBox(children=(FloatProgress(value=0.0, max=4.0), HTML(value='')))"
      ]
     },
     "metadata": {},
     "output_type": "display_data"
    },
    {
     "name": "stdout",
     "output_type": "stream",
     "text": [
      "\n",
      "1033 mps was successfully saved\n",
      "Kando - GET /api/data/fetch?point_id=1057&unit_id=&start=1577829600.0&end=&raw_data=\n",
      "Kando - GET /api/data/fetch?point_id=1057&unit_id=&start=1588257300&end=&raw_data=\n",
      "Kando - GET /api/data/fetch?point_id=1057&unit_id=&start=1593918000&end=&raw_data=\n"
     ]
    },
    {
     "data": {
      "application/vnd.jupyter.widget-view+json": {
       "model_id": "1bef98a823d347079510a8721edadf4a",
       "version_major": 2,
       "version_minor": 0
      },
      "text/plain": [
       "HBox(children=(FloatProgress(value=0.0, max=4.0), HTML(value='')))"
      ]
     },
     "metadata": {},
     "output_type": "display_data"
    },
    {
     "name": "stdout",
     "output_type": "stream",
     "text": [
      "\n",
      "1057 mps was successfully saved\n",
      "Kando - GET /api/data/fetch?point_id=1080&unit_id=&start=1577829600.0&end=&raw_data=\n",
      "Kando - GET /api/data/fetch?point_id=1080&unit_id=&start=1585236600&end=&raw_data=\n",
      "Kando - GET /api/data/fetch?point_id=1080&unit_id=&start=1593918000&end=&raw_data=\n"
     ]
    },
    {
     "data": {
      "application/vnd.jupyter.widget-view+json": {
       "model_id": "66cedcd5541d4e449c1ee9afe3f82823",
       "version_major": 2,
       "version_minor": 0
      },
      "text/plain": [
       "HBox(children=(FloatProgress(value=0.0, max=4.0), HTML(value='')))"
      ]
     },
     "metadata": {},
     "output_type": "display_data"
    },
    {
     "name": "stdout",
     "output_type": "stream",
     "text": [
      "\n",
      "1080 mps was successfully saved\n",
      "Kando - GET /api/data/fetch?point_id=1098&unit_id=&start=1577829600.0&end=&raw_data=\n",
      "Kando - GET /api/data/fetch?point_id=1098&unit_id=&start=1586699400&end=&raw_data=\n",
      "Kando - GET /api/data/fetch?point_id=1098&unit_id=&start=1593918000&end=&raw_data=\n"
     ]
    },
    {
     "data": {
      "application/vnd.jupyter.widget-view+json": {
       "model_id": "fcdd97f6e86f48e0ae2c9b7391f49cfd",
       "version_major": 2,
       "version_minor": 0
      },
      "text/plain": [
       "HBox(children=(FloatProgress(value=0.0, max=4.0), HTML(value='')))"
      ]
     },
     "metadata": {},
     "output_type": "display_data"
    },
    {
     "name": "stdout",
     "output_type": "stream",
     "text": [
      "\n",
      "1098 mps was successfully saved\n",
      "Kando - GET /api/data/fetch?point_id=1104&unit_id=&start=1577829600.0&end=&raw_data=\n",
      "Kando - GET /api/data/fetch?point_id=1104&unit_id=&start=1587019800&end=&raw_data=\n",
      "Kando - GET /api/data/fetch?point_id=1104&unit_id=&start=1593918000&end=&raw_data=\n"
     ]
    },
    {
     "data": {
      "application/vnd.jupyter.widget-view+json": {
       "model_id": "8f098eb65ec3425fbf2e3eeff0d8d8f9",
       "version_major": 2,
       "version_minor": 0
      },
      "text/plain": [
       "HBox(children=(FloatProgress(value=0.0, max=4.0), HTML(value='')))"
      ]
     },
     "metadata": {},
     "output_type": "display_data"
    },
    {
     "name": "stdout",
     "output_type": "stream",
     "text": [
      "\n",
      "1104 mps was successfully saved\n",
      "Kando - GET /api/data/fetch?point_id=1191&unit_id=&start=1577829600.0&end=&raw_data=\n",
      "Kando - GET /api/data/fetch?point_id=1191&unit_id=&start=1587866400&end=&raw_data=\n",
      "Kando - GET /api/data/fetch?point_id=1191&unit_id=&start=1593921720&end=&raw_data=\n"
     ]
    },
    {
     "data": {
      "application/vnd.jupyter.widget-view+json": {
       "model_id": "9578072f67574a9ebf694dedecd8ab8c",
       "version_major": 2,
       "version_minor": 0
      },
      "text/plain": [
       "HBox(children=(FloatProgress(value=0.0, max=4.0), HTML(value='')))"
      ]
     },
     "metadata": {},
     "output_type": "display_data"
    },
    {
     "name": "stdout",
     "output_type": "stream",
     "text": [
      "\n",
      "1191 mps was successfully saved\n",
      "Kando - GET /api/data/fetch?point_id=1192&unit_id=&start=1577829600.0&end=&raw_data=\n",
      "Kando - GET /api/data/fetch?point_id=1192&unit_id=&start=1585350000&end=&raw_data=\n",
      "Kando - GET /api/data/fetch?point_id=1192&unit_id=&start=1593136800&end=&raw_data=\n",
      "Kando - GET /api/data/fetch?point_id=1192&unit_id=&start=1593918000&end=&raw_data=\n"
     ]
    },
    {
     "data": {
      "application/vnd.jupyter.widget-view+json": {
       "model_id": "9743ad27c821461f9e37ad21277c2f09",
       "version_major": 2,
       "version_minor": 0
      },
      "text/plain": [
       "HBox(children=(FloatProgress(value=0.0, max=4.0), HTML(value='')))"
      ]
     },
     "metadata": {},
     "output_type": "display_data"
    },
    {
     "name": "stdout",
     "output_type": "stream",
     "text": [
      "\n",
      "1192 mps was successfully saved\n",
      "Kando - GET /api/data/fetch?point_id=1238&unit_id=&start=1577829600.0&end=&raw_data=\n",
      "Kando - GET /api/data/fetch?point_id=1238&unit_id=&start=1585274400&end=&raw_data=\n",
      "Kando - GET /api/data/fetch?point_id=1238&unit_id=&start=1593257100&end=&raw_data=\n",
      "Kando - GET /api/data/fetch?point_id=1238&unit_id=&start=1593918000&end=&raw_data=\n"
     ]
    },
    {
     "data": {
      "application/vnd.jupyter.widget-view+json": {
       "model_id": "c0e7c7a8e4754c61933cb2e43e1ff5ed",
       "version_major": 2,
       "version_minor": 0
      },
      "text/plain": [
       "HBox(children=(FloatProgress(value=0.0, max=4.0), HTML(value='')))"
      ]
     },
     "metadata": {},
     "output_type": "display_data"
    },
    {
     "name": "stdout",
     "output_type": "stream",
     "text": [
      "\n",
      "1238 mps was successfully saved\n",
      "Kando - GET /api/data/fetch?point_id=1263&unit_id=&start=1577829600.0&end=&raw_data=\n",
      "Kando - GET /api/data/fetch?point_id=1263&unit_id=&start=1587131400&end=&raw_data=\n",
      "Kando - GET /api/data/fetch?point_id=1263&unit_id=&start=1593918000&end=&raw_data=\n"
     ]
    },
    {
     "data": {
      "application/vnd.jupyter.widget-view+json": {
       "model_id": "b5771578fe304d919eeaf3d70d056130",
       "version_major": 2,
       "version_minor": 0
      },
      "text/plain": [
       "HBox(children=(FloatProgress(value=0.0, max=4.0), HTML(value='')))"
      ]
     },
     "metadata": {},
     "output_type": "display_data"
    },
    {
     "name": "stdout",
     "output_type": "stream",
     "text": [
      "\n",
      "1263 mps was successfully saved\n",
      "Kando - GET /api/data/fetch?point_id=1332&unit_id=&start=1577829600.0&end=&raw_data=\n",
      "Kando - GET /api/data/fetch?point_id=1332&unit_id=&start=1586070000&end=&raw_data=\n",
      "Kando - GET /api/data/fetch?point_id=1332&unit_id=&start=1593918000&end=&raw_data=\n"
     ]
    },
    {
     "data": {
      "application/vnd.jupyter.widget-view+json": {
       "model_id": "3daf62f9b16044959fb620fe64bc465a",
       "version_major": 2,
       "version_minor": 0
      },
      "text/plain": [
       "HBox(children=(FloatProgress(value=0.0, max=4.0), HTML(value='')))"
      ]
     },
     "metadata": {},
     "output_type": "display_data"
    },
    {
     "name": "stdout",
     "output_type": "stream",
     "text": [
      "\n",
      "1332 mps was successfully saved\n",
      "Kando - GET /api/data/fetch?point_id=1333&unit_id=&start=1577829600.0&end=&raw_data=\n",
      "Kando - GET /api/data/fetch?point_id=1333&unit_id=&start=1585436400&end=&raw_data=\n",
      "Kando - GET /api/data/fetch?point_id=1333&unit_id=&start=1593918000&end=&raw_data=\n"
     ]
    },
    {
     "data": {
      "application/vnd.jupyter.widget-view+json": {
       "model_id": "63aa6870b3254dc4a07d9a98469db1b5",
       "version_major": 2,
       "version_minor": 0
      },
      "text/plain": [
       "HBox(children=(FloatProgress(value=0.0, max=4.0), HTML(value='')))"
      ]
     },
     "metadata": {},
     "output_type": "display_data"
    },
    {
     "name": "stdout",
     "output_type": "stream",
     "text": [
      "\n",
      "1333 mps was successfully saved\n",
      "Kando - GET /api/data/fetch?point_id=1338&unit_id=&start=1577829600.0&end=&raw_data=\n",
      "Kando - GET /api/data/fetch?point_id=1338&unit_id=&start=1585830600&end=&raw_data=\n",
      "Kando - GET /api/data/fetch?point_id=1338&unit_id=&start=1593918000&end=&raw_data=\n"
     ]
    },
    {
     "data": {
      "application/vnd.jupyter.widget-view+json": {
       "model_id": "221569e2b19843778168c44d5f7c0f4f",
       "version_major": 2,
       "version_minor": 0
      },
      "text/plain": [
       "HBox(children=(FloatProgress(value=0.0, max=4.0), HTML(value='')))"
      ]
     },
     "metadata": {},
     "output_type": "display_data"
    },
    {
     "name": "stdout",
     "output_type": "stream",
     "text": [
      "\n",
      "1338 mps was successfully saved\n",
      "Kando - GET /api/data/fetch?point_id=1340&unit_id=&start=1577829600.0&end=&raw_data=\n",
      "Kando - GET /api/data/fetch?point_id=1340&unit_id=&start=1579899960&end=&raw_data=\n"
     ]
    },
    {
     "data": {
      "application/vnd.jupyter.widget-view+json": {
       "model_id": "e4ac477f0def42fd9c103e411f93187c",
       "version_major": 2,
       "version_minor": 0
      },
      "text/plain": [
       "HBox(children=(FloatProgress(value=0.0, max=4.0), HTML(value='')))"
      ]
     },
     "metadata": {},
     "output_type": "display_data"
    },
    {
     "name": "stderr",
     "output_type": "stream",
     "text": [
      "A large number of values are smaller than 1e-05.\n",
      "For a self-join, try setting `ignore_trivial = True`.\n"
     ]
    },
    {
     "name": "stdout",
     "output_type": "stream",
     "text": [
      "\n",
      "1340 mps was successfully saved\n",
      "Kando - GET /api/data/fetch?point_id=1358&unit_id=&start=1577829600.0&end=&raw_data=\n",
      "Kando - GET /api/data/fetch?point_id=1358&unit_id=&start=1585161600&end=&raw_data=\n",
      "Kando - GET /api/data/fetch?point_id=1358&unit_id=&start=1592589000&end=&raw_data=\n",
      "Kando - GET /api/data/fetch?point_id=1358&unit_id=&start=1593918000&end=&raw_data=\n"
     ]
    },
    {
     "data": {
      "application/vnd.jupyter.widget-view+json": {
       "model_id": "4fd4af7dd7c2447babf151b9254c03a0",
       "version_major": 2,
       "version_minor": 0
      },
      "text/plain": [
       "HBox(children=(FloatProgress(value=0.0, max=4.0), HTML(value='')))"
      ]
     },
     "metadata": {},
     "output_type": "display_data"
    },
    {
     "name": "stdout",
     "output_type": "stream",
     "text": [
      "\n",
      "1358 mps was successfully saved\n",
      "Kando - GET /api/data/fetch?point_id=1372&unit_id=&start=1577829600.0&end=&raw_data=\n",
      "Kando - GET /api/data/fetch?point_id=1372&unit_id=&start=1585072500&end=&raw_data=\n",
      "Kando - GET /api/data/fetch?point_id=1372&unit_id=&start=1593918000&end=&raw_data=\n"
     ]
    },
    {
     "data": {
      "application/vnd.jupyter.widget-view+json": {
       "model_id": "f9dd1b0dc8a945ceb77721cbd4851bb4",
       "version_major": 2,
       "version_minor": 0
      },
      "text/plain": [
       "HBox(children=(FloatProgress(value=0.0, max=4.0), HTML(value='')))"
      ]
     },
     "metadata": {},
     "output_type": "display_data"
    },
    {
     "name": "stdout",
     "output_type": "stream",
     "text": [
      "\n",
      "1372 mps was successfully saved\n",
      "Kando - GET /api/data/fetch?point_id=1373&unit_id=&start=1577829600.0&end=&raw_data=\n",
      "Kando - GET /api/data/fetch?point_id=1373&unit_id=&start=1585459800&end=&raw_data=\n",
      "Kando - GET /api/data/fetch?point_id=1373&unit_id=&start=1593918000&end=&raw_data=\n"
     ]
    },
    {
     "data": {
      "application/vnd.jupyter.widget-view+json": {
       "model_id": "4b55860f6e954fc8aa8678c63cda7228",
       "version_major": 2,
       "version_minor": 0
      },
      "text/plain": [
       "HBox(children=(FloatProgress(value=0.0, max=4.0), HTML(value='')))"
      ]
     },
     "metadata": {},
     "output_type": "display_data"
    },
    {
     "name": "stdout",
     "output_type": "stream",
     "text": [
      "\n",
      "1373 mps was successfully saved\n",
      "Kando - GET /api/data/fetch?point_id=1375&unit_id=&start=1577829600.0&end=&raw_data=\n",
      "Kando - GET /api/data/fetch?point_id=1375&unit_id=&start=1585343100&end=&raw_data=\n",
      "Kando - GET /api/data/fetch?point_id=1375&unit_id=&start=1592398200&end=&raw_data=\n",
      "Kando - GET /api/data/fetch?point_id=1375&unit_id=&start=1593928020&end=&raw_data=\n"
     ]
    },
    {
     "data": {
      "application/vnd.jupyter.widget-view+json": {
       "model_id": "3c179dd7e3af4787bb70a316aa737874",
       "version_major": 2,
       "version_minor": 0
      },
      "text/plain": [
       "HBox(children=(FloatProgress(value=0.0, max=4.0), HTML(value='')))"
      ]
     },
     "metadata": {},
     "output_type": "display_data"
    },
    {
     "name": "stdout",
     "output_type": "stream",
     "text": [
      "\n",
      "1375 mps was successfully saved\n",
      "Kando - GET /api/data/fetch?point_id=1461&unit_id=&start=1577829600.0&end=&raw_data=\n",
      "Kando - GET /api/data/fetch?point_id=1461&unit_id=&start=1587780000&end=&raw_data=\n",
      "Kando - GET /api/data/fetch?point_id=1461&unit_id=&start=1593918000&end=&raw_data=\n"
     ]
    },
    {
     "data": {
      "application/vnd.jupyter.widget-view+json": {
       "model_id": "e3f56ae57b1b465aa97f0443502f236d",
       "version_major": 2,
       "version_minor": 0
      },
      "text/plain": [
       "HBox(children=(FloatProgress(value=0.0, max=4.0), HTML(value='')))"
      ]
     },
     "metadata": {},
     "output_type": "display_data"
    },
    {
     "name": "stdout",
     "output_type": "stream",
     "text": [
      "\n",
      "1461 mps was successfully saved\n",
      "Kando - GET /api/data/fetch?point_id=1490&unit_id=&start=1577829600.0&end=&raw_data=\n",
      "Kando - GET /api/data/fetch?point_id=1490&unit_id=&start=1588916700&end=&raw_data=\n",
      "Kando - GET /api/data/fetch?point_id=1490&unit_id=&start=1593918000&end=&raw_data=\n"
     ]
    },
    {
     "data": {
      "application/vnd.jupyter.widget-view+json": {
       "model_id": "c27755948d0e4359ae9f84eb046a17de",
       "version_major": 2,
       "version_minor": 0
      },
      "text/plain": [
       "HBox(children=(FloatProgress(value=0.0, max=4.0), HTML(value='')))"
      ]
     },
     "metadata": {},
     "output_type": "display_data"
    },
    {
     "name": "stdout",
     "output_type": "stream",
     "text": [
      "\n",
      "1490 mps was successfully saved\n",
      "Kando - GET /api/data/fetch?point_id=1530&unit_id=&start=1577829600.0&end=&raw_data=\n",
      "Kando - GET /api/data/fetch?point_id=1530&unit_id=&start=1585314900&end=&raw_data=\n",
      "Kando - GET /api/data/fetch?point_id=1530&unit_id=&start=1592745300&end=&raw_data=\n",
      "Kando - GET /api/data/fetch?point_id=1530&unit_id=&start=1593918000&end=&raw_data=\n"
     ]
    },
    {
     "data": {
      "application/vnd.jupyter.widget-view+json": {
       "model_id": "1a0492b02d354f3aadb8c0a1705431b3",
       "version_major": 2,
       "version_minor": 0
      },
      "text/plain": [
       "HBox(children=(FloatProgress(value=0.0, max=4.0), HTML(value='')))"
      ]
     },
     "metadata": {},
     "output_type": "display_data"
    },
    {
     "name": "stdout",
     "output_type": "stream",
     "text": [
      "\n",
      "1530 mps was successfully saved\n",
      "Kando - GET /api/data/fetch?point_id=1542&unit_id=&start=1577829600.0&end=&raw_data=\n",
      "Kando - GET /api/data/fetch?point_id=1542&unit_id=&start=1585285080&end=&raw_data=\n",
      "Kando - GET /api/data/fetch?point_id=1542&unit_id=&start=1593462300&end=&raw_data=\n",
      "Kando - GET /api/data/fetch?point_id=1542&unit_id=&start=1593918000&end=&raw_data=\n"
     ]
    },
    {
     "data": {
      "application/vnd.jupyter.widget-view+json": {
       "model_id": "2f3e957c55444386bcf301f51445f328",
       "version_major": 2,
       "version_minor": 0
      },
      "text/plain": [
       "HBox(children=(FloatProgress(value=0.0, max=4.0), HTML(value='')))"
      ]
     },
     "metadata": {},
     "output_type": "display_data"
    },
    {
     "name": "stdout",
     "output_type": "stream",
     "text": [
      "\n",
      "1542 mps was successfully saved\n",
      "Kando - GET /api/data/fetch?point_id=1561&unit_id=&start=1577829600.0&end=&raw_data=\n",
      "Kando - GET /api/data/fetch?point_id=1561&unit_id=&start=1585440000&end=&raw_data=\n",
      "Kando - GET /api/data/fetch?point_id=1561&unit_id=&start=1593029100&end=&raw_data=\n",
      "Kando - GET /api/data/fetch?point_id=1561&unit_id=&start=1593918000&end=&raw_data=\n"
     ]
    },
    {
     "data": {
      "application/vnd.jupyter.widget-view+json": {
       "model_id": "08e2df44e87a424bb69a4539053e08b8",
       "version_major": 2,
       "version_minor": 0
      },
      "text/plain": [
       "HBox(children=(FloatProgress(value=0.0, max=4.0), HTML(value='')))"
      ]
     },
     "metadata": {},
     "output_type": "display_data"
    },
    {
     "name": "stdout",
     "output_type": "stream",
     "text": [
      "\n",
      "1561 mps was successfully saved\n",
      "Kando - GET /api/data/fetch?point_id=1568&unit_id=&start=1577829600.0&end=&raw_data=\n",
      "Kando - GET /api/data/fetch?point_id=1568&unit_id=&start=1585111800&end=&raw_data=\n",
      "Kando - GET /api/data/fetch?point_id=1568&unit_id=&start=1592965500&end=&raw_data=\n",
      "Kando - GET /api/data/fetch?point_id=1568&unit_id=&start=1593928800&end=&raw_data=\n"
     ]
    },
    {
     "data": {
      "application/vnd.jupyter.widget-view+json": {
       "model_id": "465083c39bc949fc84e1b4235ca93945",
       "version_major": 2,
       "version_minor": 0
      },
      "text/plain": [
       "HBox(children=(FloatProgress(value=0.0, max=4.0), HTML(value='')))"
      ]
     },
     "metadata": {},
     "output_type": "display_data"
    },
    {
     "name": "stdout",
     "output_type": "stream",
     "text": [
      "\n",
      "1568 mps was successfully saved\n",
      "Kando - GET /api/data/fetch?point_id=1584&unit_id=&start=1577829600.0&end=&raw_data=\n",
      "Kando - GET /api/data/fetch?point_id=1584&unit_id=&start=1585770600&end=&raw_data=\n",
      "Kando - GET /api/data/fetch?point_id=1584&unit_id=&start=1593931020&end=&raw_data=\n"
     ]
    },
    {
     "data": {
      "application/vnd.jupyter.widget-view+json": {
       "model_id": "2eed4a9ce26e47888de7531b4f9b47db",
       "version_major": 2,
       "version_minor": 0
      },
      "text/plain": [
       "HBox(children=(FloatProgress(value=0.0, max=4.0), HTML(value='')))"
      ]
     },
     "metadata": {},
     "output_type": "display_data"
    },
    {
     "name": "stdout",
     "output_type": "stream",
     "text": [
      "\n",
      "1584 mps was successfully saved\n",
      "Kando - GET /api/data/fetch?point_id=1660&unit_id=&start=1577829600.0&end=&raw_data=\n",
      "Kando - GET /api/data/fetch?point_id=1660&unit_id=&start=1585073400&end=&raw_data=\n",
      "Kando - GET /api/data/fetch?point_id=1660&unit_id=&start=1592532000&end=&raw_data=\n",
      "Kando - GET /api/data/fetch?point_id=1660&unit_id=&start=1593918000&end=&raw_data=\n"
     ]
    },
    {
     "data": {
      "application/vnd.jupyter.widget-view+json": {
       "model_id": "302be5fa143b4504b040ef016b98d79a",
       "version_major": 2,
       "version_minor": 0
      },
      "text/plain": [
       "HBox(children=(FloatProgress(value=0.0, max=4.0), HTML(value='')))"
      ]
     },
     "metadata": {},
     "output_type": "display_data"
    },
    {
     "name": "stdout",
     "output_type": "stream",
     "text": [
      "\n",
      "1660 mps was successfully saved\n",
      "Kando - GET /api/data/fetch?point_id=1908&unit_id=&start=1577829600.0&end=&raw_data=\n",
      "Kando - GET /api/data/fetch?point_id=1908&unit_id=&start=1585383000&end=&raw_data=\n",
      "Kando - GET /api/data/fetch?point_id=1908&unit_id=&start=1592920200&end=&raw_data=\n",
      "Kando - GET /api/data/fetch?point_id=1908&unit_id=&start=1593918000&end=&raw_data=\n"
     ]
    },
    {
     "data": {
      "application/vnd.jupyter.widget-view+json": {
       "model_id": "c41e12b850dc45aca2d2898cc0ae202a",
       "version_major": 2,
       "version_minor": 0
      },
      "text/plain": [
       "HBox(children=(FloatProgress(value=0.0, max=4.0), HTML(value='')))"
      ]
     },
     "metadata": {},
     "output_type": "display_data"
    },
    {
     "name": "stdout",
     "output_type": "stream",
     "text": [
      "\n",
      "1908 mps was successfully saved\n",
      "Kando - GET /api/data/fetch?point_id=1991&unit_id=&start=1577829600.0&end=&raw_data=\n",
      "Kando - GET /api/data/fetch?point_id=1991&unit_id=&start=1585947000&end=&raw_data=\n",
      "Kando - GET /api/data/fetch?point_id=1991&unit_id=&start=1593918000&end=&raw_data=\n"
     ]
    },
    {
     "data": {
      "application/vnd.jupyter.widget-view+json": {
       "model_id": "d9c3525e20a54d5586e3683d9ecb9630",
       "version_major": 2,
       "version_minor": 0
      },
      "text/plain": [
       "HBox(children=(FloatProgress(value=0.0, max=4.0), HTML(value='')))"
      ]
     },
     "metadata": {},
     "output_type": "display_data"
    },
    {
     "name": "stdout",
     "output_type": "stream",
     "text": [
      "\n",
      "1991 mps was successfully saved\n",
      "Kando - GET /api/data/fetch?point_id=1994&unit_id=&start=1577829600.0&end=&raw_data=\n",
      "Kando - GET /api/data/fetch?point_id=1994&unit_id=&start=1593918000&end=&raw_data=\n",
      "failed to create 1994 mps\n",
      "Kando - GET /api/data/fetch?point_id=2045&unit_id=&start=1577829600.0&end=&raw_data=\n",
      "Kando - GET /api/data/fetch?point_id=2045&unit_id=&start=1585694100&end=&raw_data=\n",
      "Kando - GET /api/data/fetch?point_id=2045&unit_id=&start=1593317100&end=&raw_data=\n",
      "Kando - GET /api/data/fetch?point_id=2045&unit_id=&start=1593918000&end=&raw_data=\n"
     ]
    },
    {
     "data": {
      "application/vnd.jupyter.widget-view+json": {
       "model_id": "d246ac7b817e4908a79ea768b1aec064",
       "version_major": 2,
       "version_minor": 0
      },
      "text/plain": [
       "HBox(children=(FloatProgress(value=0.0, max=4.0), HTML(value='')))"
      ]
     },
     "metadata": {},
     "output_type": "display_data"
    },
    {
     "name": "stdout",
     "output_type": "stream",
     "text": [
      "\n",
      "2045 mps was successfully saved\n",
      "Kando - GET /api/data/fetch?point_id=2292&unit_id=&start=1577829600.0&end=&raw_data=\n",
      "Kando - GET /api/data/fetch?point_id=2292&unit_id=&start=1593534120&end=&raw_data=\n",
      "Kando - GET /api/data/fetch?point_id=2292&unit_id=&start=1593912720&end=&raw_data=\n",
      "failed to create 2292 mps\n",
      "Kando - GET /api/data/fetch?point_id=2294&unit_id=&start=1577829600.0&end=&raw_data=\n",
      "Kando - GET /api/data/fetch?point_id=2294&unit_id=&start=1593917220&end=&raw_data=\n",
      "failed to create 2294 mps\n",
      "Kando - GET /api/data/fetch?point_id=2295&unit_id=&start=1577829600.0&end=&raw_data=\n",
      "Kando - GET /api/data/fetch?point_id=2295&unit_id=&start=1592273400&end=&raw_data=\n",
      "failed to create 2295 mps\n",
      "Kando - GET /api/data/fetch?point_id=3029&unit_id=&start=1577829600.0&end=&raw_data=\n",
      "Kando - GET /api/data/fetch?point_id=3029&unit_id=&start=1584824220&end=&raw_data=\n",
      "Kando - GET /api/data/fetch?point_id=3029&unit_id=&start=1592187900&end=&raw_data=\n",
      "Kando - GET /api/data/fetch?point_id=3029&unit_id=&start=1593918000&end=&raw_data=\n"
     ]
    },
    {
     "data": {
      "application/vnd.jupyter.widget-view+json": {
       "model_id": "801a98b8e3294c2bb922a0e65485a682",
       "version_major": 2,
       "version_minor": 0
      },
      "text/plain": [
       "HBox(children=(FloatProgress(value=0.0, max=4.0), HTML(value='')))"
      ]
     },
     "metadata": {},
     "output_type": "display_data"
    },
    {
     "name": "stdout",
     "output_type": "stream",
     "text": [
      "\n",
      "3029 mps was successfully saved\n",
      "Kando - GET /api/data/fetch?point_id=3226&unit_id=&start=1577829600.0&end=&raw_data=\n",
      "Kando - GET /api/data/fetch?point_id=3226&unit_id=&start=1593918000&end=&raw_data=\n",
      "failed to create 3226 mps\n",
      "Kando - GET /api/data/fetch?point_id=3256&unit_id=&start=1577829600.0&end=&raw_data=\n",
      "Kando - GET /api/data/fetch?point_id=3256&unit_id=&start=1585285800&end=&raw_data=\n",
      "Kando - GET /api/data/fetch?point_id=3256&unit_id=&start=1593410280&end=&raw_data=\n"
     ]
    },
    {
     "data": {
      "application/vnd.jupyter.widget-view+json": {
       "model_id": "0ddb4a340e4b4cf3a61900aab370ec4e",
       "version_major": 2,
       "version_minor": 0
      },
      "text/plain": [
       "HBox(children=(FloatProgress(value=0.0, max=4.0), HTML(value='')))"
      ]
     },
     "metadata": {},
     "output_type": "display_data"
    },
    {
     "name": "stdout",
     "output_type": "stream",
     "text": [
      "\n",
      "3256 mps was successfully saved\n",
      "Kando - GET /api/data/fetch?point_id=3436&unit_id=&start=1577829600.0&end=&raw_data=\n",
      "Kando - GET /api/data/fetch?point_id=3436&unit_id=&start=1593928800&end=&raw_data=\n"
     ]
    },
    {
     "data": {
      "application/vnd.jupyter.widget-view+json": {
       "model_id": "b481b878498d4178a0225166850b6afe",
       "version_major": 2,
       "version_minor": 0
      },
      "text/plain": [
       "HBox(children=(FloatProgress(value=0.0, max=4.0), HTML(value='')))"
      ]
     },
     "metadata": {},
     "output_type": "display_data"
    },
    {
     "name": "stdout",
     "output_type": "stream",
     "text": [
      "\n",
      "3436 mps was successfully saved\n",
      "Kando - GET /api/data/fetch?point_id=3668&unit_id=&start=1577829600.0&end=&raw_data=\n",
      "Kando - GET /api/data/fetch?point_id=3668&unit_id=&start=1593923580&end=&raw_data=\n",
      "failed to create 3668 mps\n",
      "Kando - GET /api/data/fetch?point_id=4067&unit_id=&start=1577829600.0&end=&raw_data=\n",
      "Kando - GET /api/data/fetch?point_id=4067&unit_id=&start=1593928800&end=&raw_data=\n"
     ]
    },
    {
     "data": {
      "application/vnd.jupyter.widget-view+json": {
       "model_id": "a7e54f6604c34910a5bf53c846fbf88d",
       "version_major": 2,
       "version_minor": 0
      },
      "text/plain": [
       "HBox(children=(FloatProgress(value=0.0, max=4.0), HTML(value='')))"
      ]
     },
     "metadata": {},
     "output_type": "display_data"
    },
    {
     "name": "stdout",
     "output_type": "stream",
     "text": [
      "\n",
      "4067 mps was successfully saved\n",
      "Kando - GET /api/data/fetch?point_id=4210&unit_id=&start=1577829600.0&end=&raw_data=\n",
      "Kando - GET /api/data/fetch?point_id=4210&unit_id=&start=1593928800&end=&raw_data=\n"
     ]
    },
    {
     "data": {
      "application/vnd.jupyter.widget-view+json": {
       "model_id": "c3a055df848f406a888540eda805f2c2",
       "version_major": 2,
       "version_minor": 0
      },
      "text/plain": [
       "HBox(children=(FloatProgress(value=0.0, max=4.0), HTML(value='')))"
      ]
     },
     "metadata": {},
     "output_type": "display_data"
    },
    {
     "name": "stdout",
     "output_type": "stream",
     "text": [
      "\n",
      "4210 mps was successfully saved\n",
      "Kando - GET /api/data/fetch?point_id=4338&unit_id=&start=1577829600.0&end=&raw_data=\n",
      "Kando - GET /api/data/fetch?point_id=4338&unit_id=&start=1592942400&end=&raw_data=\n",
      "Kando - GET /api/data/fetch?point_id=4338&unit_id=&start=1593918000&end=&raw_data=\n",
      "failed to create 4338 mps\n",
      "Kando - GET /api/data/fetch?point_id=4386&unit_id=&start=1577829600.0&end=&raw_data=\n",
      "Kando - GET /api/data/fetch?point_id=4386&unit_id=&start=1593928800&end=&raw_data=\n"
     ]
    },
    {
     "data": {
      "application/vnd.jupyter.widget-view+json": {
       "model_id": "619a6ebd61334ff2b02c8b06884f84f9",
       "version_major": 2,
       "version_minor": 0
      },
      "text/plain": [
       "HBox(children=(FloatProgress(value=0.0, max=4.0), HTML(value='')))"
      ]
     },
     "metadata": {},
     "output_type": "display_data"
    },
    {
     "name": "stdout",
     "output_type": "stream",
     "text": [
      "\n",
      "4386 mps was successfully saved\n",
      "Kando - GET /api/data/fetch?point_id=5056&unit_id=&start=1577829600.0&end=&raw_data=\n",
      "Kando - GET /api/data/fetch?point_id=5056&unit_id=&start=1578974400&end=&raw_data=\n"
     ]
    },
    {
     "data": {
      "application/vnd.jupyter.widget-view+json": {
       "model_id": "e0027a493e2a43b2a1b199e96646984c",
       "version_major": 2,
       "version_minor": 0
      },
      "text/plain": [
       "HBox(children=(FloatProgress(value=0.0, max=4.0), HTML(value='')))"
      ]
     },
     "metadata": {},
     "output_type": "display_data"
    },
    {
     "name": "stdout",
     "output_type": "stream",
     "text": [
      "\n",
      "5056 mps was successfully saved\n",
      "Kando - GET /api/data/fetch?point_id=5058&unit_id=&start=1577829600.0&end=&raw_data=\n",
      "Kando - GET /api/data/fetch?point_id=5058&unit_id=&start=1588852800&end=&raw_data=\n",
      "Kando - GET /api/data/fetch?point_id=5058&unit_id=&start=1593918000&end=&raw_data=\n"
     ]
    },
    {
     "data": {
      "application/vnd.jupyter.widget-view+json": {
       "model_id": "1f8e3186c1924c0996452c662e3237e2",
       "version_major": 2,
       "version_minor": 0
      },
      "text/plain": [
       "HBox(children=(FloatProgress(value=0.0, max=4.0), HTML(value='')))"
      ]
     },
     "metadata": {},
     "output_type": "display_data"
    },
    {
     "name": "stdout",
     "output_type": "stream",
     "text": [
      "\n",
      "5058 mps was successfully saved\n",
      "\n",
      "Failed to create and save matrix profiles for these points:\n",
      " [882, 985, 1994, 2292, 2294, 2295, 3226, 3668, 4338]\n"
     ]
    }
   ],
   "source": [
    "failed = []\n",
    "for point_id in tqdm(aouthority):\n",
    "    if not path.exists(f'{point_id}_mps.pkl'):\n",
    "        try:\n",
    "            site_dic = client.get_all(point_id=point_id, start = START)\n",
    "            df = create_df_from_dict(site_dic)\n",
    "            df = impute_nulls_with_time_interpolation(df, df.columns, RESAMPLE)\n",
    "            df = replace_outliers_with_medean(df)\n",
    "            df = filter_year(df, 2020)\n",
    "            mps = create_matrix_profile_dictionary(df, ['EC', 'PH', 'ORP', 'TEMPERATURE'], m=WINDOW)\n",
    "            save_df(df, point_id)\n",
    "            save_matrix_profile_dictionary(mps, point_id)\n",
    "            print(f'{point_id} mps was successfully saved')\n",
    "        except:\n",
    "            print(f'failed to create {point_id} mps')\n",
    "            failed.append(point_id)\n",
    "    else:\n",
    "        print(point_id, 'files already exist in working directory')\n",
    "print('Failed to create and save matrix profiles for these points:\\n', failed)"
   ]
  }
 ],
 "metadata": {
  "kernelspec": {
   "display_name": "Python 3",
   "language": "python",
   "name": "python3"
  },
  "language_info": {
   "codemirror_mode": {
    "name": "ipython",
    "version": 3
   },
   "file_extension": ".py",
   "mimetype": "text/x-python",
   "name": "python",
   "nbconvert_exporter": "python",
   "pygments_lexer": "ipython3",
   "version": "3.6.10"
  },
  "nbTranslate": {
   "displayLangs": [
    "*"
   ],
   "hotkey": "alt-t",
   "langInMainMenu": true,
   "sourceLang": "en",
   "targetLang": "fr",
   "useGoogleTranslate": true
  },
  "toc": {
   "base_numbering": 1,
   "nav_menu": {},
   "number_sections": true,
   "sideBar": true,
   "skip_h1_title": false,
   "title_cell": "Table of Contents",
   "title_sidebar": "Contents",
   "toc_cell": false,
   "toc_position": {},
   "toc_section_display": true,
   "toc_window_display": false
  }
 },
 "nbformat": 4,
 "nbformat_minor": 4
}
